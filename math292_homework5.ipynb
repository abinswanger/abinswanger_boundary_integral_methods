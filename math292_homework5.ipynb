{
 "cells": [
  {
   "cell_type": "code",
   "execution_count": 1,
   "metadata": {},
   "outputs": [],
   "source": [
    "import numpy as np\n",
    "import matplotlib.pyplot as plt\n",
    "import sympy as sp"
   ]
  },
  {
   "cell_type": "code",
   "execution_count": 14,
   "metadata": {},
   "outputs": [],
   "source": [
    "class nystrom_trap_single_layer:\n",
    "    def __init__(self, n, a, b, lam, x1, x2, rhs):\n",
    "        \n",
    "        self.n = n\n",
    "        self.a = a\n",
    "        self.b = b\n",
    "        self.lam = lam\n",
    "        \n",
    "        self.t = sp.Symbol('t')\n",
    "        self.s = sp.Symbol('s')\n",
    "        self.x1 = x1(self.s)\n",
    "        self.x2 = x2(self.s)\n",
    "        self.y1 = x1(self.t)\n",
    "        self.y2 = x2(self.t)\n",
    "        #self.x1 = x1.subs(q,self.s)\n",
    "        #self.x2 = x2.subs(q,self.s)\n",
    "        #self.y1 = x1.subs(q,self.t)\n",
    "        #self.y2 = x2.subs(q,self.t)\n",
    "        \n",
    "        # initialize h for quadrature\n",
    "        self.h = (b-a) / n\n",
    "        \n",
    "        # initialize arrays\n",
    "        self.matrix = np.zeros((n,n))\n",
    "        self.y_values = np.zeros(n)\n",
    "        self.mu = np.zeros(n)\n",
    "        \n",
    "        # initialize everything else\n",
    "        self.rhs = rhs.subs({q:self.y1,r:self.y2})\n",
    "        self.jacobian_lam = 0\n",
    "        self.dgreens_dn_lam = 0\n",
    "        self.kappa_lam = 0\n",
    "        \n",
    "    def get_trap_weights(self,n_in):\n",
    "        # weights for composite trapezoid rule, which is used to evaluate u\n",
    "        weights = np.zeros(n_in + 1)\n",
    "        h_in = (self.b - self.a) / n_in\n",
    "        weights[0] = 0.5\n",
    "        weights[n_in] = 0.5\n",
    "        for i in range(1,n_in):\n",
    "            weights[i] = 1\n",
    "        weights = weights * h_in;\n",
    "        \n",
    "        return weights\n",
    "\n",
    "    def get_t_values(self,n_in):\n",
    "        # values at which a solution will be evaluated at (correspond to composite trapezoid nodes)\n",
    "        t_values = np.zeros(n_in + 1)\n",
    "        h_in = (self.b - self.a) / n_in\n",
    "        for i in range(0,n_in+1):\n",
    "            t_values[i] = self.a + i*h_in\n",
    "        \n",
    "        return t_values\n",
    "        \n",
    "    def construct_greens_function(self):\n",
    "        # build all necessary functions\n",
    "        # first the Jacobian\n",
    "        self.jacobian = sp.sqrt(sp.Pow(sp.diff(self.y1,self.t),2) + sp.Pow(sp.diff(self.y2,self.t),2))\n",
    "        self.jacobian_lam = sp.lambdify(self.t,self.jacobian)\n",
    "\n",
    "        # normal vector in 2D\n",
    "        self.normal = (1/self.jacobian) * sp.Array([-1*sp.diff(self.y2,self.t),sp.diff(self.y1,self.t)])\n",
    "\n",
    "        # greens function and normal derivative\n",
    "        self.greens_fxn = (1/(2*np.pi)) * sp.log(sp.sqrt(sp.Pow(self.x1 - self.y1,2) + sp.Pow(self.x2 - self.y2,2)))\n",
    "        self.del_greens_fxn = sp.Array([-1*(1/(2*np.pi))*(1/(sp.Pow(self.x1-self.y1,2) + sp.Pow(self.x2-self.y2,2))) * (self.x1-self.y1),\n",
    "                                        -1*(1/(2*np.pi))*(1/(sp.Pow(self.x1-self.y1,2) + sp.Pow(self.x2-self.y2,2))) * (self.x2-self.y2)])\n",
    "        self.dgreens_dn = self.del_greens_fxn[0] * self.normal[0] + self.del_greens_fxn[1] * self.normal[1]\n",
    "        self.dgreens_dn_simplified = sp.simplify(self.dgreens_dn)\n",
    "        self.dgreens_dn_lam = sp.lambdify([self.t,self.s],self.dgreens_dn_simplified)\n",
    "        self.greens_lam = sp.lambdify([self.t,self.s],self.greens_fxn)\n",
    "        # order for inputs is (t,s)\n",
    "\n",
    "        # for the case where the kernel is nearly singular\n",
    "        self.kappa = (-1/(4*np.pi))*(sp.diff(self.y2,self.t,self.t)*sp.diff(self.y1,self.t)-sp.diff(self.y1,self.t,self.t)*sp.diff(self.y2,self.t))*(1/(sp.Pow(sp.diff(self.y1,self.t),2)+sp.Pow(sp.diff(self.y2,self.t),2)))\n",
    "        self.kappa_lam = sp.lambdify(self.t,self.kappa)\n",
    "            \n",
    "    def build_matrix(self):\n",
    "        # for loop to build matrix\n",
    "        for i in range(0,self.n):\n",
    "            for j in range(0,self.n): \n",
    "                if (j != i):\n",
    "                    self.matrix[i,j] = self.greens_lam(self.a + self.h*j, self.a+self.h*i) * self.jacobian_lam(self.a+self.h*j)\n",
    "                else:\n",
    "                    self.matrix[i,j] = self.greens_lam(self.a + self.h*j, self.a+self.h*i) * self.jacobian_lam(self.a+self.h*j)\n",
    "        # contruct matrix for problem of second kind\n",
    "        self.matrix = self.lam * np.identity(self.n) + self.h*self.matrix\n",
    "        \n",
    "    def solve(self):\n",
    "        # solve the linear system\n",
    "        self.y_lam = sp.lambdify(self.t,self.rhs)\n",
    "        for i in range(0,self.n):\n",
    "            self.y_values[i] = self.y_lam(self.a + self.h*i)\n",
    "        \n",
    "        self.mu = np.linalg.inv(self.matrix)@self.y_values\n",
    "        return self.mu\n",
    "       "
   ]
  },
  {
   "cell_type": "code",
   "execution_count": 15,
   "metadata": {},
   "outputs": [
    {
     "name": "stderr",
     "output_type": "stream",
     "text": [
      "<lambdifygenerated-16>:2: RuntimeWarning: divide by zero encountered in log\n",
      "  return (0.159154943091895*log(sqrt((sin(s) - sin(t))**2 + (cos(s) - cos(t))**2)))\n"
     ]
    }
   ],
   "source": [
    "q,r = sp.symbols(\"q r\")\n",
    "\n",
    "# q,r are dummy variables for x1 and x2\n",
    "rhs = sp.exp(q)*sp.cos(r)\n",
    "N = 200\n",
    "nys = nystrom_trap_single_layer(N, 0, 2*np.pi, 0, sp.cos, sp.sin, rhs)\n",
    "nys.construct_greens_function()\n",
    "nys.build_matrix()\n",
    "mu = nys.solve()"
   ]
  },
  {
   "cell_type": "code",
   "execution_count": 18,
   "metadata": {},
   "outputs": [],
   "source": [
    "class product_trap:\n",
    "\n",
    "    def __init__(self, n, a, b, x1, x2, rhs):\n",
    "        q,r = sp.symbols(\"q r\")\n",
    "        self.n = n\n",
    "        self.a = a\n",
    "        self.b = b\n",
    "        self.t = sp.Symbol('t')\n",
    "        self.s = sp.Symbol('s')\n",
    "        self.x1 = x1.subs(q,self.s)\n",
    "        self.x2 = x2.subs(q,self.s)\n",
    "        self.y1 = x1.subs(q,self.t)\n",
    "        self.y2 = x2.subs(q,self.t)\n",
    "        \n",
    "        # initialize h for quadrature\n",
    "        self.h = (b-a) / n\n",
    "        \n",
    "        # initialize arrays\n",
    "        self.matrix = np.zeros((n + 1,n + 1))\n",
    "        self.y_values = np.zeros(n + 1)\n",
    "        self.mu = np.zeros(n + 1)\n",
    "        \n",
    "        # initialize everything else\n",
    "        self.rhs = rhs.subs({q:self.y1,r:self.y2})\n",
    "        \n",
    "        \n",
    "    def get_t_values(self,n_in):\n",
    "        # values at which a solution will be evaluated at (correspond to quadrature nodes)\n",
    "        t_values = np.zeros(n_in + 1)\n",
    "        h_in = (self.b - self.a) / n_in\n",
    "        for i in range(0,n_in + 1):\n",
    "            t_values[i] = self.a + i*h_in\n",
    "\n",
    "        return t_values\n",
    "        \n",
    "        \n",
    "    def get_trap_weights(self,n_in):\n",
    "        # weights for composite trapezoid rule, which is used to evaluate u\n",
    "        weights = np.zeros(n_in + 1)\n",
    "        h_in = (self.b - self.a) / n_in\n",
    "        weights[0] = 0.5\n",
    "        weights[n_in] = 0.5\n",
    "        for i in range(1,n_in):\n",
    "            weights[i] = 1\n",
    "        weights = weights * h_in;\n",
    "\n",
    "        return weights\n",
    "        \n",
    "        \n",
    "    def construct_functions(self):\n",
    "        # build all necessary functions\n",
    "        # first the Jacobian\n",
    "        self.jacobian = sp.sqrt(sp.Pow(sp.diff(self.y1,self.t),2) + sp.Pow(sp.diff(self.y2,self.t),2))\n",
    "        self.jacobian_lam = sp.lambdify(self.t,self.jacobian)\n",
    "            \n",
    "        # smooth and singular parts of kernel\n",
    "        self.L = (1/(2*np.pi))\n",
    "        self.log = sp.log(sp.sqrt(sp.Pow(self.x1-self.y1,2) + sp.Pow(self.x2-self.y2,2)))\n",
    "        self.log_lam = sp.lambdify([self.t,self.s],self.log)\n",
    "        \n",
    "        # Greens function\n",
    "        self.greens_fxn = (1/(2*np.pi)) * sp.log(sp.sqrt(sp.Pow(self.x1 - self.y1,2) + sp.Pow(self.x2 - self.y2,2)))\n",
    "            \n",
    "        \n",
    "    def build_weights(self):\n",
    "        # compute weights for evenly space points\n",
    "        alpha = np.zeros([self.y_values.size,self.y_values.size])\n",
    "        beta = np.zeros([self.y_values.size,self.y_values.size])\n",
    "        weights = np.zeros([self.y_values.size,self.y_values.size])\n",
    "        \n",
    "        # dummy variable for integration\n",
    "        z = sp.Symbol('z')\n",
    "        kvals = np.arange(-(self.n - 1),self.n + 1)\n",
    "        psi = np.zeros([2,kvals.size],dtype='object')\n",
    "        for i in kvals:\n",
    "            psi[0,i + self.n - 1] = sp.integrate(sp.log(sp.Abs(i-z)),(z,0,1))\n",
    "            psi[1,i + self.n - 1] = sp.integrate(z*sp.log(sp.Abs(i-z)),(z,0,1))\n",
    "        \n",
    "        for i in range(0,self.y_values.size):\n",
    "            for j in range(1,self.y_values.size):\n",
    "                alpha[i,j] = (self.h/2)*np.log(self.h) + self.h*(psi[0, i-j+1 + self.n - 1] - psi[1, i-j+1 + self.n - 1])\n",
    "                beta[i,j] = (self.h/2)*np.log(self.h) + self.h*psi[1, i-j+1 + self.n - 1]\n",
    "            \n",
    "        for i in range(0,self.y_values.size):\n",
    "            for j in range(0,self.y_values.size):\n",
    "                if (j == 0):\n",
    "                    weights[i,j] = alpha[i,1]\n",
    "                elif (j == self.n):\n",
    "                    weights[i,j] = beta[i,self.n]\n",
    "                else:\n",
    "                    weights[i,j] = beta[i,j] + alpha[i,j+1]\n",
    "            \n",
    "        return weights\n",
    "        \n",
    "    def build_linear_system(self):\n",
    "        # get weights\n",
    "        weights = self.build_weights()\n",
    "            \n",
    "        # build matrix\n",
    "        for i in range(0, self.n + 1):\n",
    "            for j in range(0, self.n + 1): \n",
    "                self.matrix[i,j] = weights[i,j] * self.jacobian_lam(self.a + self.h*j) * self.L\n",
    "                    \n",
    "                    \n",
    "    def solve(self):\n",
    "        self.y_lam = sp.lambdify(self.t,self.rhs)\n",
    "        for i in range(0,self.n + 1):\n",
    "            self.y_values[i] = self.y_lam(self.a + self.h*i)\n",
    "            \n",
    "        self.mu = np.linalg.inv(self.matrix)@self.y_values\n",
    "            \n",
    "        return self.mu\n",
    "                    \n",
    "                    \n",
    "                    "
   ]
  },
  {
   "cell_type": "code",
   "execution_count": 19,
   "metadata": {},
   "outputs": [],
   "source": [
    "q,r = sp.symbols(\"q r\")\n",
    "\n",
    "# q,r are dummy variables for x1 and x2\n",
    "rhs = sp.exp(q)*sp.cos(r)\n",
    "N = 50\n",
    "a = 0\n",
    "b = 2*np.pi\n",
    "\n",
    "x1 = sp.cos(q)\n",
    "x2 = sp.sin(q)\n",
    "\n",
    "prod_trap = product_trap(N, a, b, x1, x2, rhs)\n",
    "prod_trap.construct_functions()\n",
    "prod_trap.build_linear_system()\n",
    "mu = prod_trap.solve()"
   ]
  },
  {
   "cell_type": "code",
   "execution_count": 20,
   "metadata": {},
   "outputs": [
    {
     "data": {
      "text/plain": [
       "Text(0, 0.5, '$\\\\mu (t)$')"
      ]
     },
     "execution_count": 20,
     "metadata": {},
     "output_type": "execute_result"
    },
    {
     "data": {
      "image/png": "[encoded data removed]",
      "text/plain": [
       "<Figure size 432x288 with 1 Axes>"
      ]
     },
     "metadata": {
      "needs_background": "light"
     },
     "output_type": "display_data"
    }
   ],
   "source": [
    "t_values = prod_trap.get_t_values(N)\n",
    "plt.plot(t_values, mu)\n",
    "plt.xlabel('t')\n",
    "plt.ylabel('$\\mu (t)$')"
   ]
  },
  {
   "cell_type": "code",
   "execution_count": 21,
   "metadata": {},
   "outputs": [
    {
     "data": {
      "text/latex": [
       "$\\displaystyle 0.159154943091895 \\sqrt{\\left(q - \\cos{\\left(t \\right)}\\right)^{2} + \\left(r - \\sin{\\left(t \\right)}\\right)^{2}}$"
      ],
      "text/plain": [
       "0.159154943091895*sqrt((q - cos(t))**2 + (r - sin(t))**2)"
      ]
     },
     "execution_count": 21,
     "metadata": {},
     "output_type": "execute_result"
    }
   ],
   "source": [
    "prod_trap.construct_functions()\n",
    "greens = prod_trap.greens_fxn.subs({prod_trap.x1:q, prod_trap.x2: r})\n",
    "greens = sp.simplify(greens)\n",
    "greens"
   ]
  },
  {
   "cell_type": "code",
   "execution_count": 22,
   "metadata": {},
   "outputs": [
    {
     "ename": "TypeError",
     "evalue": "loop of ufunc does not support argument 0 of type Add which has no callable sqrt method",
     "output_type": "error",
     "traceback": [
      "\u001b[1;31m---------------------------------------------------------------------------\u001b[0m",
      "\u001b[1;31mAttributeError\u001b[0m                            Traceback (most recent call last)",
      "\u001b[1;31mAttributeError\u001b[0m: 'Add' object has no attribute 'sqrt'",
      "\nThe above exception was the direct cause of the following exception:\n",
      "\u001b[1;31mTypeError\u001b[0m                                 Traceback (most recent call last)",
      "\u001b[1;32m<ipython-input-22-f4ecc055f019>\u001b[0m in \u001b[0;36m<module>\u001b[1;34m\u001b[0m\n\u001b[0;32m      4\u001b[0m \u001b[0mlam_greens\u001b[0m \u001b[1;33m=\u001b[0m \u001b[0msp\u001b[0m\u001b[1;33m.\u001b[0m\u001b[0mlambdify\u001b[0m\u001b[1;33m(\u001b[0m\u001b[0mt\u001b[0m\u001b[1;33m,\u001b[0m\u001b[0mgreens\u001b[0m\u001b[1;33m)\u001b[0m\u001b[1;33m\u001b[0m\u001b[1;33m\u001b[0m\u001b[0m\n\u001b[0;32m      5\u001b[0m \u001b[1;33m\u001b[0m\u001b[0m\n\u001b[1;32m----> 6\u001b[1;33m \u001b[0mprint\u001b[0m\u001b[1;33m(\u001b[0m\u001b[0mlam_greens\u001b[0m\u001b[1;33m(\u001b[0m\u001b[1;36m0\u001b[0m\u001b[1;33m)\u001b[0m\u001b[1;33m)\u001b[0m\u001b[1;33m\u001b[0m\u001b[1;33m\u001b[0m\u001b[0m\n\u001b[0m",
      "\u001b[1;32m<lambdifygenerated-17>\u001b[0m in \u001b[0;36m_lambdifygenerated\u001b[1;34m(t)\u001b[0m\n\u001b[0;32m      1\u001b[0m \u001b[1;32mdef\u001b[0m \u001b[0m_lambdifygenerated\u001b[0m\u001b[1;33m(\u001b[0m\u001b[0mt\u001b[0m\u001b[1;33m)\u001b[0m\u001b[1;33m:\u001b[0m\u001b[1;33m\u001b[0m\u001b[1;33m\u001b[0m\u001b[0m\n\u001b[1;32m----> 2\u001b[1;33m     \u001b[1;32mreturn\u001b[0m \u001b[1;33m(\u001b[0m\u001b[1;36m0.159154943091895\u001b[0m\u001b[1;33m*\u001b[0m\u001b[0msqrt\u001b[0m\u001b[1;33m(\u001b[0m\u001b[1;33m(\u001b[0m\u001b[0mq\u001b[0m \u001b[1;33m-\u001b[0m \u001b[0mcos\u001b[0m\u001b[1;33m(\u001b[0m\u001b[0mt\u001b[0m\u001b[1;33m)\u001b[0m\u001b[1;33m)\u001b[0m\u001b[1;33m**\u001b[0m\u001b[1;36m2\u001b[0m \u001b[1;33m+\u001b[0m \u001b[1;33m(\u001b[0m\u001b[0mr\u001b[0m \u001b[1;33m-\u001b[0m \u001b[0msin\u001b[0m\u001b[1;33m(\u001b[0m\u001b[0mt\u001b[0m\u001b[1;33m)\u001b[0m\u001b[1;33m)\u001b[0m\u001b[1;33m**\u001b[0m\u001b[1;36m2\u001b[0m\u001b[1;33m)\u001b[0m\u001b[1;33m)\u001b[0m\u001b[1;33m\u001b[0m\u001b[1;33m\u001b[0m\u001b[0m\n\u001b[0m",
      "\u001b[1;31mTypeError\u001b[0m: loop of ufunc does not support argument 0 of type Add which has no callable sqrt method"
     ]
    }
   ],
   "source": [
    "# solve for u\n",
    "h = prod_trap.h\n",
    "t = prod_trap.t\n",
    "lam_greens = sp.lambdify(t,greens)\n",
    "\n",
    "print(lam_greens(0))"
   ]
  },
  {
   "cell_type": "code",
   "execution_count": 37,
   "metadata": {},
   "outputs": [
    {
     "ename": "TypeError",
     "evalue": "loop of ufunc does not support argument 0 of type Add which has no callable log method",
     "output_type": "error",
     "traceback": [
      "\u001b[1;31m---------------------------------------------------------------------------\u001b[0m",
      "\u001b[1;31mAttributeError\u001b[0m                            Traceback (most recent call last)",
      "\u001b[1;31mAttributeError\u001b[0m: 'Add' object has no attribute 'log'",
      "\nThe above exception was the direct cause of the following exception:\n",
      "\u001b[1;31mTypeError\u001b[0m                                 Traceback (most recent call last)",
      "\u001b[1;32m<ipython-input-37-e08251a6357c>\u001b[0m in \u001b[0;36m<module>\u001b[1;34m\u001b[0m\n\u001b[0;32m      2\u001b[0m \u001b[0mu\u001b[0m \u001b[1;33m=\u001b[0m \u001b[1;36m0\u001b[0m\u001b[1;33m\u001b[0m\u001b[1;33m\u001b[0m\u001b[0m\n\u001b[0;32m      3\u001b[0m \u001b[1;32mfor\u001b[0m \u001b[0mi\u001b[0m \u001b[1;32min\u001b[0m \u001b[0mrange\u001b[0m\u001b[1;33m(\u001b[0m\u001b[1;36m0\u001b[0m\u001b[1;33m,\u001b[0m\u001b[0mN\u001b[0m\u001b[1;33m+\u001b[0m\u001b[1;36m1\u001b[0m\u001b[1;33m)\u001b[0m\u001b[1;33m:\u001b[0m\u001b[1;33m\u001b[0m\u001b[1;33m\u001b[0m\u001b[0m\n\u001b[1;32m----> 4\u001b[1;33m         \u001b[0mu\u001b[0m \u001b[1;33m=\u001b[0m \u001b[0mu\u001b[0m \u001b[1;33m+\u001b[0m \u001b[1;33m(\u001b[0m\u001b[0mweights\u001b[0m\u001b[1;33m[\u001b[0m\u001b[0mi\u001b[0m\u001b[1;33m]\u001b[0m \u001b[1;33m*\u001b[0m \u001b[0mmu\u001b[0m\u001b[1;33m[\u001b[0m\u001b[0mi\u001b[0m\u001b[1;33m]\u001b[0m \u001b[1;33m*\u001b[0m \u001b[0mlam_greens\u001b[0m\u001b[1;33m(\u001b[0m\u001b[0mh\u001b[0m\u001b[1;33m*\u001b[0m\u001b[0mi\u001b[0m\u001b[1;33m)\u001b[0m\u001b[1;33m)\u001b[0m\u001b[1;33m\u001b[0m\u001b[1;33m\u001b[0m\u001b[0m\n\u001b[0m\u001b[0;32m      5\u001b[0m \u001b[1;33m\u001b[0m\u001b[0m\n\u001b[0;32m      6\u001b[0m \u001b[0mu_lam\u001b[0m \u001b[1;33m=\u001b[0m \u001b[0msp\u001b[0m\u001b[1;33m.\u001b[0m\u001b[0mlambdify\u001b[0m\u001b[1;33m(\u001b[0m\u001b[1;33m[\u001b[0m\u001b[0mq\u001b[0m\u001b[1;33m,\u001b[0m\u001b[0mr\u001b[0m\u001b[1;33m]\u001b[0m\u001b[1;33m,\u001b[0m\u001b[0mu\u001b[0m\u001b[1;33m)\u001b[0m\u001b[1;33m\u001b[0m\u001b[1;33m\u001b[0m\u001b[0m\n",
      "\u001b[1;32m<lambdifygenerated-32>\u001b[0m in \u001b[0;36m_lambdifygenerated\u001b[1;34m(t)\u001b[0m\n\u001b[0;32m      1\u001b[0m \u001b[1;32mdef\u001b[0m \u001b[0m_lambdifygenerated\u001b[0m\u001b[1;33m(\u001b[0m\u001b[0mt\u001b[0m\u001b[1;33m)\u001b[0m\u001b[1;33m:\u001b[0m\u001b[1;33m\u001b[0m\u001b[1;33m\u001b[0m\u001b[0m\n\u001b[1;32m----> 2\u001b[1;33m     \u001b[1;32mreturn\u001b[0m \u001b[1;33m(\u001b[0m\u001b[1;36m0.0795774715459477\u001b[0m\u001b[1;33m*\u001b[0m\u001b[0mlog\u001b[0m\u001b[1;33m(\u001b[0m\u001b[1;33m(\u001b[0m\u001b[0mq\u001b[0m \u001b[1;33m-\u001b[0m \u001b[0mcos\u001b[0m\u001b[1;33m(\u001b[0m\u001b[0mt\u001b[0m\u001b[1;33m)\u001b[0m\u001b[1;33m)\u001b[0m\u001b[1;33m**\u001b[0m\u001b[1;36m2\u001b[0m \u001b[1;33m+\u001b[0m \u001b[1;33m(\u001b[0m\u001b[0mr\u001b[0m \u001b[1;33m-\u001b[0m \u001b[0msin\u001b[0m\u001b[1;33m(\u001b[0m\u001b[0mt\u001b[0m\u001b[1;33m)\u001b[0m\u001b[1;33m)\u001b[0m\u001b[1;33m**\u001b[0m\u001b[1;36m2\u001b[0m\u001b[1;33m)\u001b[0m\u001b[1;33m)\u001b[0m\u001b[1;33m\u001b[0m\u001b[1;33m\u001b[0m\u001b[0m\n\u001b[0m",
      "\u001b[1;31mTypeError\u001b[0m: loop of ufunc does not support argument 0 of type Add which has no callable log method"
     ]
    }
   ],
   "source": [
    "weights = prod_trap.get_trap_weights(N)\n",
    "u = 0\n",
    "for i in range(0,N+1):\n",
    "        u = u + (weights[i] * mu[i] * lam_greens(h*i))\n",
    "\n",
    "u_lam = sp.lambdify([q,r],u)\n",
    "true_soln = sp.lambdify([q,r],rhs)\n",
    "\n",
    "print(u_lam(0,0))\n",
    "print(true_soln(0,0))"
   ]
  }
 ],
 "metadata": {
  "kernelspec": {
   "display_name": "Python 3",
   "language": "python",
   "name": "python3"
  },
  "language_info": {
   "codemirror_mode": {
    "name": "ipython",
    "version": 3
   },
   "file_extension": ".py",
   "mimetype": "text/x-python",
   "name": "python",
   "nbconvert_exporter": "python",
   "pygments_lexer": "ipython3",
   "version": "3.8.3"
  }
 },
 "nbformat": 4,
 "nbformat_minor": 4
}
