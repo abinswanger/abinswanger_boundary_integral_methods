{
 "cells": [
  {
   "cell_type": "code",
   "execution_count": null,
   "metadata": {},
   "outputs": [],
   "source": [
    "import numpy as np\n",
    "import matplotlib.pyplot as plt"
   ]
  },
  {
   "cell_type": "code",
   "execution_count": null,
   "metadata": {},
   "outputs": [],
   "source": [
    "class nystrom:\n",
    "    def __init__(self, n, n_int, a, b):\n",
    "        #Initialize n+1 x n+1 matrix with all zeros\n",
    "        self.matrix = np.zeros((n+1,n+1))\n",
    "        self.t_values = np.zeros(n+1)\n",
    "        self.weights = np.zeros(n+1)\n",
    "        self.y_values = np.zeros(n+1)\n",
    "        self.solution = np.zeros(n+1)\n",
    "        self.true_solution = np.zeros(n+1)\n",
    "        self.h = (b-a)/n\n",
    "        self.int_x_values = np.zeros(n_int+1)\n",
    "        \n",
    "    def set_t_values(self):\n",
    "        for i in range(0,n+1):\n",
    "            self.t_values[i] = a + i*self.h\n",
    "\n",
    "    def set_weights(self):\n",
    "        self.weights[0] = 0.5\n",
    "        self.weights[n] = 0.5\n",
    "        for i in range(1,n):\n",
    "            self.weights[i] = 1\n",
    "        self.weights = self.weights*self.h;\n",
    "    \n",
    "    def build_matrix(self):\n",
    "        for i in range(0,n+1):\n",
    "            for j in range(0,n+1):\n",
    "                self.matrix[i,j] = self.weights[j]*np.exp(self.t_values[i]*self.t_values[j])\n",
    "        \n",
    "        self.matrix = -self.matrix + 50*np.identity(n+1)\n",
    "        \n",
    "    def set_y_values(self):\n",
    "        for i in range(0,n+1):\n",
    "            self.y_values[i] = 50*np.exp(self.t_values[i]) - (np.exp(self.t_values[i]+1))/(self.t_values[i]+1) + 1/(self.t_values[i]+1)\n",
    "    \n",
    "    def y_function(self,t):\n",
    "        return 50*np.exp(t) - (np.exp(t+1))/(t+1) + 1/(t+1)\n",
    "    \n",
    "    def solve_linear_system(self):\n",
    "        matrix_inverse = np.linalg.inv(self.matrix)\n",
    "        self.solution = np.matmul(matrix_inverse,self.y_values)\n",
    "        return self.solution\n",
    "    \n",
    "    def nys_interp(self):\n",
    "        int_t_values = np.zeros(n_int+1)\n",
    "        h_int = (b-a)/n_int\n",
    "        for i in range(0,n_int+1):\n",
    "            int_t_values[i] = a + i*h_int\n",
    "            asum = 0\n",
    "            for j in range(0,n+1):\n",
    "                asum = asum + (1/50)*self.weights[j]*np.exp(int_t_values[i]*self.t_values[j])*self.solution[j]\n",
    "            \n",
    "            asum = asum + self.y_function(int_t_values[i])/50\n",
    "            self.int_x_values[i] = asum\n",
    "        \n",
    "        return self.int_x_values\n",
    "    \n",
    "    def interp_error(self):\n",
    "        h_int = (b-a)/n_int\n",
    "        true_sol_int = np.zeros(n_int+1)\n",
    "        int_t_values = np.zeros(n_int+1)\n",
    "        \n",
    "        for i in range(0,n_int+1):\n",
    "            int_t_values[i] = a + i*h_int\n",
    "            true_sol_int[i] = np.exp(int_t_values[i])\n",
    "        \n",
    "        error = np.zeros(n_int+1)\n",
    "        for i in range(0,n_int+1):\n",
    "            error[i] = np.abs(true_sol_int[i] - self.int_x_values[i])    \n",
    "        \n",
    "        #return np.amax(error)\n",
    "        return error\n",
    "    \n",
    "    def compute_error(self):\n",
    "        for i in range(0,n+1):\n",
    "            self.true_solution[i] = np.exp(self.t_values[i])\n",
    "            \n",
    "        error = np.zeros(n+1)\n",
    "        for i in range(0,n+1):\n",
    "            error[i] = np.abs(self.true_solution[i] - self.solution[i])\n",
    "            \n",
    "        return np.amax(error)\n",
    "    \n",
    "    def return_t(self):\n",
    "        return self.t_values\n",
    "        \n"
   ]
  },
  {
   "cell_type": "code",
   "execution_count": null,
   "metadata": {},
   "outputs": [],
   "source": [
    "n = 50\n",
    "n_int = 10000\n",
    "a = 0\n",
    "b = 1\n",
    "nys_test = nystrom(n,n_int,a,b)\n",
    "nys_test.set_t_values()\n",
    "nys_test.set_weights()\n",
    "nys_test.build_matrix()\n",
    "nys_test.set_y_values()\n",
    "\n",
    "x = nys_test.solve_linear_system()\n",
    "xn = nys_test.nys_interp()\n",
    "t = nys_test.return_t()\n",
    "error = nys_test.compute_error()\n",
    "error_int = nys_test.interp_error()\n",
    "\n",
    "#print(x)\n",
    "#print(xn)\n",
    "#print(t)\n",
    "#print(error)\n",
    "print(error_int)"
   ]
  },
  {
   "cell_type": "code",
   "execution_count": null,
   "metadata": {},
   "outputs": [],
   "source": [
    "pq1=plt.plot(t,x,'ro',markersize=5,label='Numerical solution')\n",
    "pq2=plt.plot(np.linspace(0,1,10001),np.exp(np.linspace(0,1,10001)),'k-',label='True solution')\n",
    "#plt.title('Interpolated and Exact solution vs. t')\n",
    "plt.legend()\n",
    "plt.xlabel('t')\n",
    "plt.ylabel('x(t)')"
   ]
  },
  {
   "cell_type": "code",
   "execution_count": null,
   "metadata": {},
   "outputs": [],
   "source": [
    "#plt.plot(t,x)\n",
    "\n",
    "p1=plt.plot(np.linspace(0,1,10001),xn,'ro',markersize=5,label='Interpolated values')\n",
    "p2=plt.plot(np.linspace(0,1,10001),np.exp(np.linspace(0,1,10001)),'k-',label='True solution')\n",
    "#plt.title('Interpolated and Exact solution vs. t')\n",
    "plt.legend()\n",
    "plt.xlabel('t')\n",
    "plt.ylabel('x(t)')"
   ]
  },
  {
   "cell_type": "code",
   "execution_count": null,
   "metadata": {},
   "outputs": [],
   "source": [
    "p3 = plt.plot(np.linspace(0,1,10001),error_int,'b-',markersize=5,label='Interpolation Error')\n",
    "plt.xlabel('t')\n",
    "plt.ylabel('Interpolation error')\n",
    "plt.yscale('log')"
   ]
  },
  {
   "cell_type": "code",
   "execution_count": null,
   "metadata": {},
   "outputs": [],
   "source": [
    "e1 = np.zeros(4)\n",
    "e1[0] = 0.005350901772309236\n",
    "e1[1] = 0.0013513738476640391\n",
    "e1[2] = 0.0003387120189350945\n",
    "e1[3] = 8.473253532104152e-05\n",
    "\n",
    "e2 = np.zeros(4)\n",
    "e2[0] = 0.0007662692264425175\n",
    "e2[1] = 0.0001917725431808126\n",
    "e2[2] = 4.799633051355556e-05\n",
    "e2[3] = 1.202302039038372e-05\n",
    "\n",
    "nvals = np.zeros(4)\n",
    "nvals[0] = 2\n",
    "nvals[1] = 4\n",
    "nvals[2] = 8\n",
    "nvals[3] = 16\n",
    "\n",
    "p5=plt.plot(nvals,e1,'bo',markersize=5,label='E1')\n",
    "p6=plt.plot(nvals,e2,'ro',markersize=5,label='E2')\n",
    "nvecfloat=np.array([2.0,4.0,8.0,16.0,32.0,64.0])\n",
    "p7=plt.plot(nvecfloat,np.power(nvecfloat,(-2)),'g-',label='Line with slope 2')\n",
    "plt.legend()\n",
    "plt.xlabel('n')\n",
    "plt.ylabel('error')\n",
    "plt.yscale('log')\n",
    "plt.xscale('log')"
   ]
  },
  {
   "cell_type": "code",
   "execution_count": 5,
   "metadata": {},
   "outputs": [],
   "source": [
    "import numpy as np\n",
    "import sympy as sp"
   ]
  },
  {
   "cell_type": "code",
   "execution_count": 11,
   "metadata": {},
   "outputs": [],
   "source": [
    "class nystrom_general:\n",
    "    def __init__(self, n, a, b, lam, x1, x2):\n",
    "        self.lam = lam\n",
    "        self.n = n\n",
    "        self.a = a\n",
    "        self.b = b\n",
    "        self.h = (b-a) / n\n",
    "        self.Matrix = np.zeros((n+1, n+1))\n",
    "        self.t = sp.Symbol('t')\n",
    "        self.s = sp.Symbol('s')\n",
    "        self.x1 = x1(self.s)\n",
    "        self.x2 = x2(self.s)\n",
    "        self.y1 = x1(self.t)\n",
    "        self.y2 = x2(self.t)\n",
    "        self.y = np.zeros(n+1)\n",
    "        self.normal = [-1*sp.diff(self.y2,self.t), sp.diff(self.y1,self.t)]\n",
    "        self.greenfxn = (1/(2*np.pi))*sp.log(sp.sqrt(sp.Pow(self.x1-self.x2,2)+sp.Pow(self.y1-self.y2,2)))\n",
    "        "
   ]
  },
  {
   "cell_type": "code",
   "execution_count": 10,
   "metadata": {},
   "outputs": [
    {
     "name": "stdout",
     "output_type": "stream",
     "text": [
      "0.159154943091895*log(sqrt((-sin(s) + cos(s))**2 + (-sin(t) + cos(t))**2))\n"
     ]
    }
   ],
   "source": [
    "nys = nystrom_general(8, 0, 1, -0.5, sp.cos, sp.sin)\n",
    "print(nys.greenfxn)"
   ]
  },
  {
   "cell_type": "code",
   "execution_count": null,
   "metadata": {},
   "outputs": [],
   "source": []
  }
 ],
 "metadata": {
  "kernelspec": {
   "display_name": "Python 3",
   "language": "python",
   "name": "python3"
  },
  "language_info": {
   "codemirror_mode": {
    "name": "ipython",
    "version": 3
   },
   "file_extension": ".py",
   "mimetype": "text/x-python",
   "name": "python",
   "nbconvert_exporter": "python",
   "pygments_lexer": "ipython3",
   "version": "3.8.3"
  }
 },
 "nbformat": 4,
 "nbformat_minor": 4
}
