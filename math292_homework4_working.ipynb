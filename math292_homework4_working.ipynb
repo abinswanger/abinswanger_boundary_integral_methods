{
 "cells": [
  {
   "cell_type": "code",
   "execution_count": 1,
   "metadata": {},
   "outputs": [],
   "source": [
    "import numpy as np\n",
    "import matplotlib.pyplot as plt\n",
    "import sympy as sp"
   ]
  },
  {
   "cell_type": "code",
   "execution_count": 2,
   "metadata": {},
   "outputs": [],
   "source": [
    "class nystrom_trap:\n",
    "    def __init__(self, n, a, b, lam, x1, x2, rhs):\n",
    "        \n",
    "        self.n = n\n",
    "        self.a = a\n",
    "        self.b = b\n",
    "        self.lam = lam\n",
    "        \n",
    "        self.t = sp.Symbol('t')\n",
    "        self.s = sp.Symbol('s')\n",
    "        self.x1 = x1(self.s)\n",
    "        self.x2 = x2(self.s)\n",
    "        self.y1 = x1(self.t)\n",
    "        self.y2 = x2(self.t)\n",
    "        \n",
    "        # initialize h for quadrature\n",
    "        self.h = (b-a) / n\n",
    "        \n",
    "        # initialize arrays\n",
    "        self.matrix = np.zeros((n,n))\n",
    "        self.y_values = np.zeros(n)\n",
    "        self.mu = np.zeros(n)\n",
    "        \n",
    "        # initialize everything else\n",
    "        self.rhs = rhs.subs({q:self.y1,r:self.y2})\n",
    "        self.jacobian_lam = 0\n",
    "        self.dgreens_dn_lam = 0\n",
    "        self.kappa_lam = 0\n",
    "        \n",
    "    def get_trap_weights(self,n_in):\n",
    "        # weights for composite trapezoid rule, which is used to evaluate u\n",
    "        weights = np.zeros(n_in + 1)\n",
    "        h_in = (self.b - self.a) / n_in\n",
    "        weights[0] = 0.5\n",
    "        weights[n_in] = 0.5\n",
    "        for i in range(1,n_in):\n",
    "            weights[i] = 1\n",
    "        weights = weights * h_in;\n",
    "        \n",
    "        return weights\n",
    "\n",
    "    def get_t_values(self,n_in):\n",
    "        # values at which a solution will be evaluated at (correspond to composite trapezoid nodes)\n",
    "        t_values = np.zeros(n_in + 1)\n",
    "        h_in = (self.b - self.a) / n_in\n",
    "        for i in range(0,n_in+1):\n",
    "            t_values[i] = self.a + i*h_in\n",
    "        \n",
    "        return t_values\n",
    "        \n",
    "    def construct_greens_function(self):\n",
    "        # build all necessary functions\n",
    "        # first the Jacobian\n",
    "        self.jacobian = sp.sqrt(sp.Pow(sp.diff(self.y1,self.t),2) + sp.Pow(sp.diff(self.y2,self.t),2))\n",
    "        self.jacobian_lam = sp.lambdify(self.t,self.jacobian)\n",
    "\n",
    "        # normal vector in 2D\n",
    "        self.normal = (1/self.jacobian) * sp.Array([-1*sp.diff(self.y2,self.t),sp.diff(self.y1,self.t)])\n",
    "\n",
    "        # greens function and normal derivative\n",
    "        self.greens_fxn = (1/(2*np.pi)) * sp.log(sp.sqrt(sp.Pow(self.x1 - self.y1,2) + sp.Pow(self.x2 - self.y2,2)))\n",
    "        self.del_greens_fxn = sp.Array([-1*(1/(2*np.pi))*(1/(sp.Pow(self.x1-self.y1,2) + sp.Pow(self.x2-self.y2,2))) * (self.x1-self.y1),\n",
    "                                        -1*(1/(2*np.pi))*(1/(sp.Pow(self.x1-self.y1,2) + sp.Pow(self.x2-self.y2,2))) * (self.x2-self.y2)])\n",
    "        self.dgreens_dn = self.del_greens_fxn[0] * self.normal[0] + self.del_greens_fxn[1] * self.normal[1]\n",
    "        self.dgreens_dn_simplified = sp.simplify(self.dgreens_dn)\n",
    "        self.dgreens_dn_lam = sp.lambdify([self.t,self.s],self.dgreens_dn_simplified)\n",
    "        # order for inputs is (t,s)\n",
    "\n",
    "        # for the case where the kernel is nearly singular\n",
    "        self.kappa = (-1/(4*np.pi))*(sp.diff(self.y2,self.t,self.t)*sp.diff(self.y1,self.t)-sp.diff(self.y1,self.t,self.t)*sp.diff(self.y2,self.t))*(1/(sp.Pow(sp.diff(self.y1,self.t),2)+sp.Pow(sp.diff(self.y2,self.t),2)))\n",
    "        self.kappa_lam = sp.lambdify(self.t,self.kappa)\n",
    "            \n",
    "    def build_matrix(self):\n",
    "        # for loop to build matrix\n",
    "        for i in range(0,self.n):\n",
    "            for j in range(0,self.n): \n",
    "                if (j != i):\n",
    "                    self.matrix[i,j] = self.dgreens_dn_lam(self.a + self.h*j, a+self.h*i) * self.jacobian_lam(self.a+self.h*j)\n",
    "                else:\n",
    "                    self.matrix[i,j] = self.kappa_lam(self.a+self.h*i)\n",
    "        # contruct matrix for problem of second kind\n",
    "        self.matrix = self.lam * np.identity(self.n) + self.h*self.matrix\n",
    "        \n",
    "    def solve(self):\n",
    "        # solve the linear system\n",
    "        self.y_lam = sp.lambdify(self.t,self.rhs)\n",
    "        for i in range(0,self.n):\n",
    "            self.y_values[i] = self.y_lam(self.a + self.h*i)\n",
    "        \n",
    "        self.mu = np.linalg.inv(self.matrix)@self.y_values\n",
    "        return self.mu\n",
    "    \n",
    "    def solve_for_u(self,r,theta):\n",
    "        u = 0\n",
    "        weights = self.get_trap_weights(self.n)\n",
    "        t_values = self.get_t_values(self.n)\n",
    "        print(weights)\n",
    "        print(t_values)\n",
    "        #for i in range(0,self.n+1):\n",
    "        #    u = u + (1/(2*np.pi))*( (r*np.cos(t_values[i] - theta ) - 1) / (1 + r*r - 2*r*np.cos(t_values[i] - theta)) ) * weights[i] * self.mu[i]\n",
    "            \n",
    "        #return u\n",
    "        "
   ]
  },
  {
   "cell_type": "code",
   "execution_count": 3,
   "metadata": {},
   "outputs": [],
   "source": [
    "q,r = sp.symbols(\"q r\")\n",
    "\n",
    "# q,r are dummy variables for x1 and x2\n",
    "rhs = sp.exp(q)*sp.cos(r)\n",
    "N = 40\n",
    "\n",
    "a = 0\n",
    "b = 2*np.pi\n",
    "lam = -0.5\n",
    "\n",
    "x1 = sp.cos\n",
    "x2 = sp.sin\n",
    "\n",
    "nys = nystrom_trap(N, a, b, lam, x1, x2, rhs)\n",
    "nys.construct_greens_function()\n",
    "nys.build_matrix()\n",
    "mu = nys.solve()"
   ]
  },
  {
   "cell_type": "code",
   "execution_count": 4,
   "metadata": {},
   "outputs": [
    {
     "data": {
      "text/plain": [
       "[<matplotlib.lines.Line2D at 0x21083d267c0>]"
      ]
     },
     "execution_count": 4,
     "metadata": {},
     "output_type": "execute_result"
    },
    {
     "data": {
      "image/png": "[encoded data removed]",
      "text/plain": [
       "<Figure size 432x288 with 1 Axes>"
      ]
     },
     "metadata": {
      "needs_background": "light"
     },
     "output_type": "display_data"
    }
   ],
   "source": [
    "plt.plot(mu)"
   ]
  },
  {
   "cell_type": "code",
   "execution_count": 5,
   "metadata": {},
   "outputs": [
    {
     "data": {
      "text/latex": [
       "$\\displaystyle \\frac{0.159154943091895 \\left(q \\cos{\\left(t \\right)} + r \\sin{\\left(t \\right)} - 1\\right)}{\\left(q - \\cos{\\left(t \\right)}\\right)^{2} + \\left(r - \\sin{\\left(t \\right)}\\right)^{2}}$"
      ],
      "text/plain": [
       "0.159154943091895*(q*cos(t) + r*sin(t) - 1)/((q - cos(t))**2 + (r - sin(t))**2)"
      ]
     },
     "execution_count": 5,
     "metadata": {},
     "output_type": "execute_result"
    }
   ],
   "source": [
    "new_dgreens_dn = nys.dgreens_dn.subs({nys.x1:q, nys.x2: r})\n",
    "new_dgreens_dn = sp.simplify(new_dgreens_dn)\n",
    "new_dgreens_dn"
   ]
  },
  {
   "cell_type": "code",
   "execution_count": 6,
   "metadata": {},
   "outputs": [],
   "source": [
    "# solve for u\n",
    "u = 0\n",
    "h = nys.h\n",
    "t = nys.t\n",
    "lam_dgreens_dn = sp.lambdify(t,new_dgreens_dn)"
   ]
  },
  {
   "cell_type": "code",
   "execution_count": 11,
   "metadata": {},
   "outputs": [],
   "source": [
    "# N for periodic trapezoid rule, change to N + 1 if not periodic\n",
    "for i in range(0,N):\n",
    "        u = u + (h * mu[i] * lam_dgreens_dn(h*i))"
   ]
  },
  {
   "cell_type": "code",
   "execution_count": 12,
   "metadata": {},
   "outputs": [],
   "source": [
    "u_lam = sp.lambdify([q,r],u)\n",
    "true_soln = sp.lambdify([q,r],rhs)"
   ]
  },
  {
   "cell_type": "code",
   "execution_count": 13,
   "metadata": {},
   "outputs": [
    {
     "name": "stdout",
     "output_type": "stream",
     "text": [
      "0.999999999999997\n",
      "1.0\n"
     ]
    }
   ],
   "source": [
    "print(u_lam(0,0))\n",
    "print(true_soln(0,0))"
   ]
  },
  {
   "cell_type": "code",
   "execution_count": 14,
   "metadata": {},
   "outputs": [],
   "source": [
    "b = 30\n",
    "error = np.zeros(b)\n",
    "db = 1/30\n",
    "for i in range(0,b):\n",
    "    error[i] = np.abs(     u_lam(i*db*1, db*0) - true_soln(i*db*1,db*0)   )"
   ]
  },
  {
   "cell_type": "code",
   "execution_count": 15,
   "metadata": {},
   "outputs": [
    {
     "name": "stdout",
     "output_type": "stream",
     "text": [
      "[2.99760217e-15 3.33066907e-15 3.10862447e-15 3.55271368e-15\n",
      " 3.55271368e-15 3.33066907e-15 3.55271368e-15 3.77475828e-15\n",
      " 4.21884749e-15 3.99680289e-15 4.21884749e-15 4.21884749e-15\n",
      " 2.66453526e-15 2.66453526e-14 5.20472554e-13 7.30548955e-12\n",
      " 8.68534134e-11 8.97006247e-10 8.17636892e-09 6.66393716e-08\n",
      " 4.91024724e-07 3.30213737e-06 2.04346810e-05 1.17199948e-04\n",
      " 6.26931822e-04 3.14622976e-03 1.49091268e-02 6.74718744e-02\n",
      " 3.01616551e-01 1.54217311e+00]\n"
     ]
    },
    {
     "data": {
      "text/plain": [
       "[<matplotlib.lines.Line2D at 0x21084f50220>]"
      ]
     },
     "execution_count": 15,
     "metadata": {},
     "output_type": "execute_result"
    },
    {
     "data": {
      "image/png": "[encoded data removed]",
      "text/plain": [
       "<Figure size 432x288 with 1 Axes>"
      ]
     },
     "metadata": {
      "needs_background": "light"
     },
     "output_type": "display_data"
    }
   ],
   "source": [
    "print(error)\n",
    "plt.plot(error)"
   ]
  }
 ],
 "metadata": {
  "kernelspec": {
   "display_name": "Python 3",
   "language": "python",
   "name": "python3"
  },
  "language_info": {
   "codemirror_mode": {
    "name": "ipython",
    "version": 3
   },
   "file_extension": ".py",
   "mimetype": "text/x-python",
   "name": "python",
   "nbconvert_exporter": "python",
   "pygments_lexer": "ipython3",
   "version": "3.8.3"
  }
 },
 "nbformat": 4,
 "nbformat_minor": 4
}
