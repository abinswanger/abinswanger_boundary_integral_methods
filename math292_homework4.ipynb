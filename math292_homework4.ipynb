{
 "cells": [
  {
   "cell_type": "code",
   "execution_count": 1,
   "metadata": {},
   "outputs": [],
   "source": [
    "import numpy as np\n",
    "import matplotlib.pyplot as plt"
   ]
  },
  {
   "cell_type": "code",
   "execution_count": 11,
   "metadata": {},
   "outputs": [],
   "source": [
    "class nystrom:\n",
    "    def __init__(self, n, n_int, lam, a, b):\n",
    "        #Initialize n+1 x n+1 matrix with all zeros\n",
    "        self.matrix = np.zeros((n+1,n+1))\n",
    "        self.t_values = np.zeros(n+1)\n",
    "        self.weights = np.zeros(n+1)\n",
    "        self.y_values = np.zeros(n+1)\n",
    "        self.solution = np.zeros(n+1)\n",
    "        self.true_solution = np.zeros(n+1)\n",
    "        self.h = (b-a) / n\n",
    "        self.int_x_values = np.zeros(n_int+1)\n",
    "        \n",
    "    def set_t_values(self):\n",
    "        for i in range(0,n+1):\n",
    "            self.t_values[i] = a + i*self.h\n",
    "\n",
    "    def set_weights(self):\n",
    "        self.weights[0] = 0.5\n",
    "        self.weights[n] = 0.5\n",
    "        for i in range(1,n):\n",
    "            self.weights[i] = 1\n",
    "        self.weights = self.weights*self.h;\n",
    "    \n",
    "    def build_matrix(self):\n",
    "        for i in range(0,n+1):\n",
    "            for j in range(0,n+1):\n",
    "                self.matrix[i,j] = self.weights[j]\n",
    "        \n",
    "        self.matrix = (-1/(2*np.pi))*self.matrix + (lam)*np.identity(n+1)\n",
    "        \n",
    "    def set_y_values(self):\n",
    "        for i in range(0,n+1):\n",
    "            self.y_values[i] = np.exp(np.cos(self.t_values[i])) * (np.cos(np.sin(self.t_values[i])))\n",
    "            \n",
    "    def y_function(self,t):\n",
    "        return np.exp(np.cos(t)) * (np.cos(np.sin(t)))\n",
    "    \n",
    "    def solve_linear_system(self):\n",
    "        matrix_inverse = np.linalg.inv(self.matrix)\n",
    "        self.solution = np.matmul(matrix_inverse,self.y_values)\n",
    "        return self.solution\n",
    "    \n",
    "    def solve_for_u(self,r,theta):\n",
    "        u = 0\n",
    "        for i in range(0,n+1):\n",
    "            u = u + (1/(2*np.pi))*( (r*np.cos(self.t_values[i] - theta ) - 1) / (1 + r*r - 2*r*np.cos(self.t_values[i] - theta)) ) *self.weights[i]*self.solution[i]\n",
    "            \n",
    "        return u\n",
    "    \n",
    "    def nys_interp(self):\n",
    "        int_t_values = np.zeros(n_int+1)\n",
    "        h_int = (b-a)/n_int\n",
    "        for i in range(0,n_int+1):\n",
    "            int_t_values[i] = a + i*h_int\n",
    "            asum = 0\n",
    "            for j in range(0,n+1):\n",
    "                asum = asum + (1/lam)*self.weights[j]*(-1/(2*np.pi))*self.solution[j]\n",
    "            \n",
    "            asum = asum + (1/lam)*self.y_function(int_t_values[i])\n",
    "            self.int_x_values[i] = asum\n",
    "        \n",
    "        return self.int_x_values\n",
    "    \n",
    "    def interp_error(self):\n",
    "        h_int = (b-a)/n_int\n",
    "        true_sol_int = np.zeros(n_int+1)\n",
    "        int_t_values = np.zeros(n_int+1)\n",
    "        \n",
    "        for i in range(0,n_int+1):\n",
    "            int_t_values[i] = a + i*h_int\n",
    "            true_sol_int[i] = np.exp(np.cos(int_t_values[i])) * (np.cos(np.sin(int_t_values[i])))\n",
    "        \n",
    "        error = np.zeros(n_int+1)\n",
    "        for i in range(0,n_int+1):\n",
    "            error[i] = np.abs(true_sol_int[i] - self.int_x_values[i])    \n",
    "        \n",
    "        return np.amax(error)\n",
    "        #return error\n",
    "    \n",
    "    def compute_error(self):\n",
    "        for i in range(0,n+1):\n",
    "            self.true_solution[i] = np.exp(np.cos(self.t_values[i])) * (np.cos(np.sin(self.t_values[i])))\n",
    "            \n",
    "        error = np.zeros(n+1)\n",
    "        for i in range(0,n+1):\n",
    "            error[i] = np.abs(self.true_solution[i] - self.solution[i])\n",
    "            \n",
    "        return np.amax(error)\n",
    "    \n",
    "    def return_t(self):\n",
    "        return self.t_values"
   ]
  },
  {
   "cell_type": "code",
   "execution_count": 12,
   "metadata": {},
   "outputs": [
    {
     "name": "stdout",
     "output_type": "stream",
     "text": [
      "1.3153879373668018\n",
      "1.6487212707001282\n"
     ]
    }
   ],
   "source": [
    "n = 50\n",
    "n_int = 10000\n",
    "a = 0\n",
    "b = 2*np.pi\n",
    "lam = -0.5\n",
    "nys_test = nystrom(n, n_int, lam, a, b)\n",
    "nys_test.set_t_values()\n",
    "nys_test.set_weights()\n",
    "nys_test.build_matrix()\n",
    "nys_test.set_y_values()\n",
    "\n",
    "\n",
    "mu = nys_test.solve_linear_system()\n",
    "u = nys_test.solve_for_u(0.5,0)\n",
    "utrue = np.exp(0.5)\n",
    "\n",
    "t = nys_test.return_t()\n",
    "\n",
    "print(u)\n",
    "print(utrue)\n"
   ]
  },
  {
   "cell_type": "code",
   "execution_count": 13,
   "metadata": {
    "scrolled": true
   },
   "outputs": [
    {
     "data": {
      "text/plain": [
       "Text(0, 0.5, '$\\\\mu (t)$')"
      ]
     },
     "execution_count": 13,
     "metadata": {},
     "output_type": "execute_result"
    },
    {
     "data": {
      "image/png": "[encoded data removed]",
      "text/plain": [
       "<Figure size 432x288 with 1 Axes>"
      ]
     },
     "metadata": {
      "needs_background": "light"
     },
     "output_type": "display_data"
    }
   ],
   "source": [
    "plt.plot(t,mu)\n",
    "plt.xlabel('t')\n",
    "plt.ylabel('$\\mu (t)$')"
   ]
  },
  {
   "cell_type": "code",
   "execution_count": 21,
   "metadata": {},
   "outputs": [
    {
     "name": "stdout",
     "output_type": "stream",
     "text": [
      "6.765923524921547\n",
      "9.543767445832724\n"
     ]
    }
   ],
   "source": [
    "xn = nys_test.nys_interp()\n",
    "t = nys_test.return_t()\n",
    "error = nys_test.compute_error()\n",
    "error_int = nys_test.interp_error()\n",
    "\n",
    "print(error)\n",
    "print(error_int)"
   ]
  },
  {
   "cell_type": "code",
   "execution_count": null,
   "metadata": {},
   "outputs": [],
   "source": []
  }
 ],
 "metadata": {
  "kernelspec": {
   "display_name": "Python 3",
   "language": "python",
   "name": "python3"
  },
  "language_info": {
   "codemirror_mode": {
    "name": "ipython",
    "version": 3
   },
   "file_extension": ".py",
   "mimetype": "text/x-python",
   "name": "python",
   "nbconvert_exporter": "python",
   "pygments_lexer": "ipython3",
   "version": "3.8.3"
  }
 },
 "nbformat": 4,
 "nbformat_minor": 4
}
