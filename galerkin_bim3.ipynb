{
 "cells": [
  {
   "cell_type": "code",
   "execution_count": 1,
   "metadata": {},
   "outputs": [],
   "source": [
    "import numpy as np\n",
    "import matplotlib.pyplot as plt\n",
    "import sympy as sp"
   ]
  },
  {
   "cell_type": "code",
   "execution_count": 2,
   "metadata": {},
   "outputs": [],
   "source": [
    "class galerkin_bim:\n",
    "    def __init__(self, n, a, b, lam, x1, x2, rhs):\n",
    "        \n",
    "        '''\n",
    "        to use this class, need to define an instance with the above inputs\n",
    "        then call the function construct_greens_function to initialize the kernel\n",
    "        then call build_linear_system to assemble the linear system\n",
    "        then finally call solve_mu to solve the linear system for mu\n",
    "        \n",
    "        the function get_t_values returns the computational grid\n",
    "        the function get_trap_weights returns the weights for composite trapezoid rule\n",
    "        '''\n",
    "        \n",
    "        self.n = n\n",
    "        self.a = a\n",
    "        self.b = b\n",
    "        self.lam = lam\n",
    "        \n",
    "        self.t = sp.Symbol('t')\n",
    "        self.s = sp.Symbol('s')\n",
    "        \n",
    "        self.x1 = x1.subs(q,self.s)\n",
    "        self.x2 = x2.subs(q,self.s)\n",
    "        self.y1 = x1.subs(q,self.t)\n",
    "        self.y2 = x2.subs(q,self.t)\n",
    "        \n",
    "        # initialize h for quadrature to find u\n",
    "        self.h = (b-a) / n\n",
    "        \n",
    "        # initialize arrays\n",
    "        self.matrix = np.zeros((n+1,n+1))\n",
    "        self.rhs_values = np.zeros(n+1)\n",
    "        self.mu = np.zeros(n+1)\n",
    "        \n",
    "        # initialize everything else\n",
    "        self.rhs = rhs.subs({q:self.y1,r:self.y2})\n",
    "    \n",
    "    \n",
    "    def get_t_values(self,n_in):\n",
    "        # values at which a solution will be evaluated at (correspond to composite trapezoid nodes)\n",
    "        t_values = np.zeros(n_in + 1)\n",
    "        h_in = (self.b - self.a) / n_in\n",
    "        for i in range(0,n_in + 1):\n",
    "            t_values[i] = self.a + i*h_in\n",
    "        \n",
    "        return t_values\n",
    "    \n",
    "    \n",
    "    def get_trap_weights(self,n_in):\n",
    "        # weights for composite trapezoid rule, which is used to evaluate u\n",
    "        weights = np.zeros(n_in + 1)\n",
    "        h_in = (self.b - self.a) / n_in\n",
    "        weights[0] = 0.5\n",
    "        weights[n_in] = 0.5\n",
    "        for i in range(1,n_in):\n",
    "            weights[i] = 1\n",
    "        weights = weights * h_in;\n",
    "        \n",
    "        return weights\n",
    "        \n",
    "        \n",
    "    def construct_greens_function(self):\n",
    "        # build all necessary functions\n",
    "        # first the Jacobian\n",
    "        self.jacobian = sp.sqrt(sp.Pow(sp.diff(self.y1,self.t),2) + sp.Pow(sp.diff(self.y2,self.t),2))\n",
    "        self.jacobian_lam = sp.lambdify(self.t,self.jacobian)\n",
    "\n",
    "        # normal vector in 2D\n",
    "        self.normal = (1/self.jacobian) * sp.Array([-1*sp.diff(self.y2,self.t),sp.diff(self.y1,self.t)])\n",
    "\n",
    "        # greens function and normal derivative of greens function\n",
    "        self.greens_fxn = (1/(2*np.pi)) * sp.log(sp.sqrt(sp.Pow(self.x1 - self.y1,2) + sp.Pow(self.x2 - self.y2,2)))\n",
    "        self.del_greens_fxn = sp.Array([-1*(1/(2*np.pi))*(1/(sp.Pow(self.x1-self.y1,2) + sp.Pow(self.x2-self.y2,2))) * (self.x1-self.y1),\n",
    "                                        -1*(1/(2*np.pi))*(1/(sp.Pow(self.x1-self.y1,2) + sp.Pow(self.x2-self.y2,2))) * (self.x2-self.y2)])\n",
    "        self.dgreens_dn = self.del_greens_fxn[0] * self.normal[0] + self.del_greens_fxn[1] * self.normal[1]\n",
    "        self.dgreens_dn_simplified = sp.simplify(self.dgreens_dn)\n",
    "        self.dgreens_dn_lam = sp.lambdify([self.t,self.s],self.dgreens_dn_simplified)\n",
    "        # order for inputs is (t,s)\n",
    "        # integration variable t\n",
    "        # evaulation point s (on boundary)\n",
    "\n",
    "        # for the case where the kernel is nearly singular (not used here)\n",
    "        self.kappa = (-1/(4*np.pi))*(sp.diff(self.y2,self.t,self.t)*sp.diff(self.y1,self.t)-sp.diff(self.y1,self.t,self.t)*sp.diff(self.y2,self.t))*(1/(sp.Pow(sp.diff(self.y1,self.t),2)+sp.Pow(sp.diff(self.y2,self.t),2)))\n",
    "        self.kappa_lam = sp.lambdify(self.t,self.kappa)\n",
    "        \n",
    "        \n",
    "    def build_linear_system(self):\n",
    "        # build matrix and rhs of the linear system\n",
    "        \n",
    "        # define the grid (later used to compute u with trapezoid rule)\n",
    "        t_values = self.get_t_values(self.n)\n",
    "        \n",
    "        # quadrature nodes and weights for 3 point Gauss-Legendre quadrature\n",
    "        xii = np.array([0.7745966692414834, 0, -0.7745966692414834]);\n",
    "        wi = np.array([0.5555555555555556, 0.8888888888888888, 0.5555555555555556]);\n",
    "        \n",
    "        # two basis functions on [-1,1]\n",
    "        phi1 = lambda x: 0.5 * (1 - x)\n",
    "        phi2 = lambda x: 0.5 * (1 + x)\n",
    "        \n",
    "        # first build the rhs\n",
    "        # this is the function y defined symbolically\n",
    "        self.y_lam = sp.lambdify(self.t,self.rhs)\n",
    "        \n",
    "        # stores the two different integrals for each part of l\n",
    "        y1_ints = np.zeros(self.n)\n",
    "        y2_ints = np.zeros(self.n)\n",
    "        \n",
    "        # stores the rhs of linear system\n",
    "        rhs_vec = np.zeros(self.n + 1)\n",
    "        \n",
    "        for i in range(1, self.n + 1):\n",
    "            xirhs = lambda x: t_values[i-1] * 0.5 * (1 - x) + t_values[i] * 0.5 * (1 + x)\n",
    "            y1_intgrnd_0 = ( self.y_lam(xirhs(xii[0])) * phi1(xii[0]) * 0.5 * self.h ) * wi[0]\n",
    "            y1_intgrnd_1 = ( self.y_lam(xirhs(xii[1])) * phi1(xii[1]) * 0.5 * self.h ) * wi[1]\n",
    "            y1_intgrnd_2 = ( self.y_lam(xirhs(xii[2])) * phi1(xii[2]) * 0.5 * self.h ) * wi[2]\n",
    "            y2_intgrnd_0 = ( self.y_lam(xirhs(xii[0])) * phi2(xii[0]) * 0.5 * self.h ) * wi[0]\n",
    "            y2_intgrnd_1 = ( self.y_lam(xirhs(xii[1])) * phi2(xii[1]) * 0.5 * self.h ) * wi[1]\n",
    "            y2_intgrnd_2 = ( self.y_lam(xirhs(xii[2])) * phi2(xii[2]) * 0.5 * self.h ) * wi[2]\n",
    "            y1_ints[i-1] = y1_intgrnd_0 + y1_intgrnd_1 + y1_intgrnd_2\n",
    "            y2_ints[i-1] = y2_intgrnd_0 + y2_intgrnd_1 + y2_intgrnd_2\n",
    "        \n",
    "        rhs_vec[0] = y1_ints[0]\n",
    "        rhs_vec[self.n] = y2_ints[self.n - 1]\n",
    "        for i in range(1, self.n):\n",
    "            rhs_vec[i] = y2_ints[i - 1] + y1_ints[i]\n",
    "        \n",
    "        self.rhs_values = rhs_vec\n",
    "            \n",
    "        # next build the matrix, build the two parts separately and adding them together in the end\n",
    "        \n",
    "        # build the lam(li,lj) part first\n",
    "        matrix_1 = np.zeros((self.n+1,self.n+1))\n",
    "        for i in range(0,self.n + 1):\n",
    "            for j in range(0,self.n + 1): \n",
    "                if (sp.Abs(i-j) > 1):\n",
    "                    matrix_1[i,j] = 0\n",
    "                elif (i == j and i > 0 and i < self.n):\n",
    "                    matrix_1[i,j] = (2/3)*self.h\n",
    "                elif (i == j and i == 0):\n",
    "                    matrix_1[i,j] = (1/3)*self.h\n",
    "                elif(i == j and i == self.n):\n",
    "                    matrix_1[i,j] = (1/3)*self.h\n",
    "                else:\n",
    "                    matrix_1[i,j] = (1/6)*self.h\n",
    "                    \n",
    "        matrix_1 = matrix_1 * self.lam\n",
    "        \n",
    "        # now build the double integral part\n",
    "        matrix_2 = np.zeros((self.n+1,self.n+1))\n",
    "        \n",
    "        # stores the two f integrals for each part of l\n",
    "        f1_ints = sp.zeros(self.n,1)\n",
    "        f2_ints = sp.zeros(self.n,1)\n",
    "        # stores the combinations of f1 and f2 which form the inner integral\n",
    "        F = sp.zeros(self.n + 1,1)\n",
    "        \n",
    "        for i in range(1, self.n + 1):\n",
    "            xi = lambda x: t_values[i-1] * 0.5 * (1 - x) + t_values[i] * 0.5 * (1 + x)\n",
    "            f1_intgrnd_0 = ( self.dgreens_dn_simplified.subs([(self.t, self.t), (self.s, xi(xii[0]))]) * self.jacobian_lam(xi(xii[0])) * phi1(xii[0]) * 0.5 * self.h ) * wi[0]\n",
    "            f1_intgrnd_1 = ( self.dgreens_dn_simplified.subs([(self.t, self.t), (self.s, xi(xii[1]))]) * self.jacobian_lam(xi(xii[1])) * phi1(xii[1]) * 0.5 * self.h ) * wi[1]\n",
    "            f1_intgrnd_2 = ( self.dgreens_dn_simplified.subs([(self.t, self.t), (self.s, xi(xii[2]))]) * self.jacobian_lam(xi(xii[2])) * phi1(xii[2]) * 0.5 * self.h ) * wi[2]\n",
    "            f1_ints[i-1] = f1_intgrnd_0 + f1_intgrnd_1 + f1_intgrnd_2\n",
    "            f2_intgrnd_0 = ( self.dgreens_dn_simplified.subs([(self.t, self.t), (self.s, xi(xii[0]))]) * self.jacobian_lam(xi(xii[0])) * phi2(xii[0]) * 0.5 * self.h ) * wi[0]\n",
    "            f2_intgrnd_1 = ( self.dgreens_dn_simplified.subs([(self.t, self.t), (self.s, xi(xii[1]))]) * self.jacobian_lam(xi(xii[1])) * phi2(xii[1]) * 0.5 * self.h ) * wi[1]\n",
    "            f2_intgrnd_2 = ( self.dgreens_dn_simplified.subs([(self.t, self.t), (self.s, xi(xii[2]))]) * self.jacobian_lam(xi(xii[2])) * phi2(xii[2]) * 0.5 * self.h ) * wi[2]\n",
    "            f2_ints[i-1] = f2_intgrnd_0 + f2_intgrnd_1 + f2_intgrnd_2\n",
    "        \n",
    "        F[0] = f1_ints[0]\n",
    "        F[self.n] = f2_ints[self.n - 1]\n",
    "        for i in range(1, self.n):\n",
    "            F[i] = f2_ints[i - 1] + f1_ints[i]\n",
    "        \n",
    "        # next do the outer integral\n",
    "        g1_ints = np.zeros((self.n, self.n + 1))\n",
    "        g2_ints = np.zeros((self.n, self.n + 1))\n",
    "        \n",
    "        # to avoid nans add a tolerance so to avoid dividing by zero\n",
    "        eps = 0.0001\n",
    "        for i in range(1, self.n + 1):\n",
    "            for j in range(0, self.n + 1):\n",
    "                xi = lambda x: t_values[i-1] * 0.5 * (1 - x) + t_values[i] * 0.5 * (1 + x)\n",
    "                g1_intgrnd_0 = ( F[j].subs(self.t, (xi(xii[0]) + eps)) * phi1(xii[0]) * 0.5 * self.h ) * wi[0]\n",
    "                g1_intgrnd_1 = ( F[j].subs(self.t, (xi(xii[1]) + eps)) * phi1(xii[1]) * 0.5 * self.h ) * wi[1]\n",
    "                g1_intgrnd_2 = ( F[j].subs(self.t, (xi(xii[2]) + eps)) * phi1(xii[2]) * 0.5 * self.h ) * wi[2]\n",
    "                g1_ints[i-1,j] = g1_intgrnd_0 + g1_intgrnd_1 + g1_intgrnd_2\n",
    "        \n",
    "        for i in range(1, self.n + 1):\n",
    "            for j in range(0, self.n + 1):\n",
    "                xi = lambda x: t_values[i-1] * 0.5 * (1 - x) + t_values[i] * 0.5 * (1 + x)\n",
    "                g2_intgrnd_0 = ( F[j].subs(self.t, (xi(xii[0]) + eps)) * phi2(xii[0]) * 0.5 * self.h ) * wi[0]\n",
    "                g2_intgrnd_1 = ( F[j].subs(self.t, (xi(xii[1]) + eps)) * phi2(xii[1]) * 0.5 * self.h ) * wi[1]\n",
    "                g2_intgrnd_2 = ( F[j].subs(self.t, (xi(xii[2]) + eps)) * phi2(xii[2]) * 0.5 * self.h ) * wi[2]\n",
    "                g2_ints[i-1,j] = g2_intgrnd_0 + g2_intgrnd_1 + g2_intgrnd_2\n",
    "            \n",
    "        \n",
    "        # treat first and last rows separately\n",
    "        for j in range(0, self.n + 1):\n",
    "            matrix_2[0,j] = g1_ints[0,j]\n",
    "            matrix_2[self.n,j] = g2_ints[self.n-1,j]\n",
    "        \n",
    "        # build rest of matrix_2\n",
    "        for i in range(1, self.n):\n",
    "            for j in range(0, self.n + 1):\n",
    "                matrix_2[i,j] = g2_ints[i-1,j] + g1_ints[i,j]\n",
    "        \n",
    "        # combine the matrices\n",
    "        self.matrix = matrix_1 + matrix_2\n",
    "        \n",
    "        \n",
    "    def solve_mu(self):\n",
    "        # solve the linear system for mu\n",
    "        self.mu = np.linalg.inv(self.matrix)@self.rhs_values\n",
    "        return self.mu\n",
    "                "
   ]
  },
  {
   "cell_type": "code",
   "execution_count": 3,
   "metadata": {},
   "outputs": [],
   "source": [
    "# below runs the code for the circle case\n",
    "q,r = sp.symbols(\"q r\")\n",
    "\n",
    "# q,r are dummy variables for x1 and x2\n",
    "# define the right hand side of integral equation\n",
    "rhs = sp.exp(q)*sp.cos(r)\n",
    "\n",
    "# number of grid points\n",
    "N = 50\n",
    "\n",
    "# beginning and ending points of boundary domain\n",
    "a = 0\n",
    "b = 2*np.pi\n",
    "\n",
    "# lambda in the equation\n",
    "lam = -0.5\n",
    "\n",
    "# parameterization \n",
    "x1 = sp.cos(q)\n",
    "x2 = sp.sin(q)\n",
    "\n",
    "# define an instance of the class, then construct greens functions, build the linear system, then solve for mu\n",
    "gal = galerkin_bim(N, a, b, lam, x1, x2, rhs)\n",
    "gal.construct_greens_function()\n",
    "gal.build_linear_system()\n",
    "\n",
    "mu = gal.solve_mu()"
   ]
  },
  {
   "cell_type": "code",
   "execution_count": 4,
   "metadata": {},
   "outputs": [
    {
     "data": {
      "text/plain": [
       "Text(0, 0.5, '$\\\\mu (t)$')"
      ]
     },
     "execution_count": 4,
     "metadata": {},
     "output_type": "execute_result"
    },
    {
     "data": {
      "image/png": "[encoded data removed]",
      "text/plain": [
       "<Figure size 432x288 with 1 Axes>"
      ]
     },
     "metadata": {
      "needs_background": "light"
     },
     "output_type": "display_data"
    }
   ],
   "source": [
    "# plots mu vs t\n",
    "\n",
    "t_values = gal.get_t_values(N)\n",
    "plt.plot(t_values,mu)\n",
    "plt.xlabel('t')\n",
    "plt.ylabel('$\\mu (t)$')"
   ]
  },
  {
   "cell_type": "code",
   "execution_count": 5,
   "metadata": {},
   "outputs": [
    {
     "data": {
      "text/latex": [
       "$\\displaystyle \\frac{0.159154943091895 \\left(q \\cos{\\left(t \\right)} + r \\sin{\\left(t \\right)} - 1\\right)}{\\left(q - \\cos{\\left(t \\right)}\\right)^{2} + \\left(r - \\sin{\\left(t \\right)}\\right)^{2}}$"
      ],
      "text/plain": [
       "0.159154943091895*(q*cos(t) + r*sin(t) - 1)/((q - cos(t))**2 + (r - sin(t))**2)"
      ]
     },
     "execution_count": 5,
     "metadata": {},
     "output_type": "execute_result"
    }
   ],
   "source": [
    "# next we solve for u from mu\n",
    "\n",
    "# first obtain the kernel (dG/dn) from the above instance of the class\n",
    "new_dgreens_dn = gal.dgreens_dn.subs({gal.x1:q, gal.x2: r})\n",
    "new_dgreens_dn = sp.simplify(new_dgreens_dn)\n",
    "new_dgreens_dn"
   ]
  },
  {
   "cell_type": "code",
   "execution_count": 6,
   "metadata": {},
   "outputs": [],
   "source": [
    "# next we solve for u with composite trapezoid rule in the next two cells\n",
    "\n",
    "# define h and the input variable t\n",
    "h = gal.h\n",
    "t = gal.t\n",
    "\n",
    "# define the kernel which can be evaluated at discrete values\n",
    "lam_dgreens_dn = sp.lambdify(t,new_dgreens_dn)"
   ]
  },
  {
   "cell_type": "code",
   "execution_count": 7,
   "metadata": {},
   "outputs": [
    {
     "name": "stdout",
     "output_type": "stream",
     "text": [
      "0.9999999999999979\n",
      "1.0\n"
     ]
    }
   ],
   "source": [
    "# obtain the weights for composite trapezoid rule and then solve for u on the grid (u_lam solution that can be evaluated)\n",
    "weights = gal.get_trap_weights(N)\n",
    "u = 0\n",
    "# do composite trapezoid rule\n",
    "for i in range(0,N+1):\n",
    "        u = u + (weights[i] * mu[i] * lam_dgreens_dn(h*i))\n",
    "\n",
    "# create solution function u that can be evaluated at points in the domain\n",
    "u_lam = sp.lambdify([q,r],u)\n",
    "\n",
    "# define the true solution to compute error\n",
    "true_soln = sp.lambdify([q,r],rhs)\n",
    "\n",
    "# print a random test value to spot check accuracy\n",
    "print(u_lam(0,0))\n",
    "print(true_soln(0,0))"
   ]
  },
  {
   "cell_type": "code",
   "execution_count": 8,
   "metadata": {},
   "outputs": [],
   "source": [
    "# next we check the absolute error at sevaral points in the domain \n",
    "\n",
    "# define the number of random points to check, the array to store error, and compute the error at these points\n",
    "npts = 30\n",
    "error_circ = np.zeros(npts)\n",
    "dnpts = 1/30\n",
    "for i in range(0,npts):\n",
    "    error_circ[i] = np.abs(  u_lam(i*dnpts*1, dnpts*0) - true_soln(i*dnpts*1,dnpts*0)   )"
   ]
  },
  {
   "cell_type": "code",
   "execution_count": 10,
   "metadata": {},
   "outputs": [
    {
     "name": "stdout",
     "output_type": "stream",
     "text": [
      "[2.10942375e-15 4.68929578e-05 1.00103136e-04 1.60112306e-04\n",
      " 2.27431336e-04 3.02601738e-04 3.86197291e-04 4.78825742e-04\n",
      " 5.81130592e-04 6.93792968e-04 8.17533583e-04 9.53114797e-04\n",
      " 1.10134277e-03 1.26306974e-03 1.43919636e-03 1.63067421e-03\n",
      " 1.83850840e-03 2.06376027e-03 2.30755033e-03 2.57106167e-03\n",
      " 2.85554871e-03 3.16239779e-03 3.49366396e-03 3.85656853e-03\n",
      " 4.29812279e-03 5.15075637e-03 8.64924481e-03 2.89300001e-02\n",
      " 1.52903920e-01 1.00888985e+00]\n"
     ]
    },
    {
     "data": {
      "text/plain": [
       "Text(0, 0.5, 'absolute error')"
      ]
     },
     "execution_count": 10,
     "metadata": {},
     "output_type": "execute_result"
    },
    {
     "data": {
      "image/png": "[encoded data removed]",
      "text/plain": [
       "<Figure size 432x288 with 1 Axes>"
      ]
     },
     "metadata": {
      "needs_background": "light"
     },
     "output_type": "display_data"
    }
   ],
   "source": [
    "# display the error \n",
    "print(error_circ)\n",
    "plt.plot(error_circ)\n",
    "plt.ylabel('absolute error')"
   ]
  },
  {
   "cell_type": "code",
   "execution_count": 11,
   "metadata": {},
   "outputs": [
    {
     "name": "stdout",
     "output_type": "stream",
     "text": [
      "0.0071818187783225795\n"
     ]
    }
   ],
   "source": [
    "# this computes the error in the left hand side if that is desired through solving the boundary integral equation and \n",
    "# comparing to the right hand side\n",
    "weights = gal.get_trap_weights(N)\n",
    "mu_t = 0\n",
    "for i in range(0,N+1):\n",
    "        mu_t = mu_t + (weights[i] * mu[i] * (-1/ (4*np.pi)))\n",
    "\n",
    "t_values = gal.get_t_values(N)\n",
    "mu_s = np.zeros(N+1)\n",
    "rhs_e = np.zeros(N+1)\n",
    "\n",
    "for i in range(0,N+1):\n",
    "    mu_s[i] = lam*mu[i] + mu_t\n",
    "    rhs_e[i] = np.exp(np.cos(t_values[i]))*np.cos(np.sin(t_values[i]))\n",
    "    \n",
    "error_mu = np.zeros(N+1)\n",
    "for i in range(0,N+1):\n",
    "    error_mu[i] = np.abs( mu_s[i] - rhs_e[i] )\n",
    "\n",
    "inferror_mu = np.linalg.norm(error_mu,np.inf)\n",
    "print(inferror_mu)  "
   ]
  },
  {
   "cell_type": "code",
   "execution_count": 12,
   "metadata": {},
   "outputs": [
    {
     "data": {
      "text/plain": [
       "Text(0, 0.5, 'left-hand side')"
      ]
     },
     "execution_count": 12,
     "metadata": {},
     "output_type": "execute_result"
    },
    {
     "data": {
      "image/png": "[encoded data removed]",
      "text/plain": [
       "<Figure size 432x288 with 1 Axes>"
      ]
     },
     "metadata": {
      "needs_background": "light"
     },
     "output_type": "display_data"
    }
   ],
   "source": [
    "# this plots the numerical mu (left hand side) vs the right hand side (true solution)\n",
    "plt.rcParams.update({'font.size': 15})\n",
    "p1 = plt.plot(t_values, mu_s, 'ro',markersize = 5, label = 'numerical solution')\n",
    "p2 = plt.plot(t_values, rhs_e, 'k-', label = 'true solution')\n",
    "plt.legend()\n",
    "plt.xlabel('t')\n",
    "plt.ylabel('left-hand side')"
   ]
  },
  {
   "cell_type": "code",
   "execution_count": 3,
   "metadata": {},
   "outputs": [],
   "source": [
    "# below runs the code for the ellipse case\n",
    "\n",
    "q,r = sp.symbols(\"q r\")\n",
    "\n",
    "# q,r are dummy variables for x1 and x2\n",
    "# define the right hand side\n",
    "rhs = sp.exp(q)*sp.cos(r)\n",
    "\n",
    "# define the number of grid points\n",
    "N = 20\n",
    "\n",
    "# beginning and ending points of boundary domain\n",
    "a = 0\n",
    "b = 2*np.pi\n",
    "\n",
    "# lambda in the equation\n",
    "lam = -0.5\n",
    "\n",
    "# parameterization \n",
    "x1 = 2*sp.cos(q)\n",
    "x2 = sp.sin(q)\n",
    "\n",
    "# define an instance of the class, then construct greens functions, build the linear system, then solve for mu\n",
    "gal_e = galerkin_bim(N, a, b, lam, x1, x2, rhs)\n",
    "gal_e.construct_greens_function()\n",
    "gal_e.build_linear_system()\n",
    "mu_e = gal_e.solve_mu()\n"
   ]
  },
  {
   "cell_type": "code",
   "execution_count": 4,
   "metadata": {},
   "outputs": [
    {
     "name": "stdout",
     "output_type": "stream",
     "text": [
      "[-10.43218656  -9.02001644  -5.53980366  -2.33570366  -0.59933343\n",
      "   0.08094214   0.3085708    0.41064431   0.515837     0.67896649\n",
      "   0.7955658    0.67890554   0.5158574    0.4107471    0.30875562\n",
      "   0.08122149  -0.59893254  -2.33514235  -5.53903068  -9.01914934\n",
      " -10.43210064]\n"
     ]
    }
   ],
   "source": [
    "# print mu as a spot check\n",
    "print(mu_e)"
   ]
  },
  {
   "cell_type": "code",
   "execution_count": 5,
   "metadata": {},
   "outputs": [
    {
     "data": {
      "text/plain": [
       "Text(0, 0.5, '$\\\\mu (t)$')"
      ]
     },
     "execution_count": 5,
     "metadata": {},
     "output_type": "execute_result"
    },
    {
     "data": {
      "image/png": "[encoded data removed]",
      "text/plain": [
       "<Figure size 432x288 with 1 Axes>"
      ]
     },
     "metadata": {
      "needs_background": "light"
     },
     "output_type": "display_data"
    }
   ],
   "source": [
    "# plots mu vs t\n",
    "t_values = gal_e.get_t_values(N)\n",
    "plt.plot(t_values,mu_e)\n",
    "plt.xlabel('t')\n",
    "plt.ylabel('$\\mu (t)$')"
   ]
  },
  {
   "cell_type": "code",
   "execution_count": 6,
   "metadata": {},
   "outputs": [
    {
     "data": {
      "text/latex": [
       "$\\displaystyle \\frac{0.159154943091895 q \\cos{\\left(t \\right)} + 0.318309886183791 r \\sin{\\left(t \\right)} - 0.318309886183791}{\\left(\\left(q - 2 \\cos{\\left(t \\right)}\\right)^{2} + \\left(r - \\sin{\\left(t \\right)}\\right)^{2}\\right) \\sqrt{3 \\sin^{2}{\\left(t \\right)} + 1}}$"
      ],
      "text/plain": [
       "(0.159154943091895*q*cos(t) + 0.318309886183791*r*sin(t) - 0.318309886183791)/(((q - 2*cos(t))**2 + (r - sin(t))**2)*sqrt(3*sin(t)**2 + 1))"
      ]
     },
     "execution_count": 6,
     "metadata": {},
     "output_type": "execute_result"
    }
   ],
   "source": [
    "# next we solve for u from mu\n",
    "\n",
    "# first obtain the kernel (dG/dn) from the above instance of the class\n",
    "new_dgreens_dn_e = gal_e.dgreens_dn.subs({gal_e.x1:q, gal_e.x2: r})\n",
    "new_dgreens_dn_e = sp.simplify(new_dgreens_dn_e)\n",
    "new_dgreens_dn_e"
   ]
  },
  {
   "cell_type": "code",
   "execution_count": 7,
   "metadata": {},
   "outputs": [],
   "source": [
    "# next we solve for u with composite trapezoid rule in the next two cells\n",
    "\n",
    "# define h and the input variable t\n",
    "h = gal_e.h\n",
    "t = gal_e.t\n",
    "\n",
    "# define the kernel which can be evaluated at discrete values\n",
    "lam_dgreens_dn_e = sp.lambdify(t,new_dgreens_dn_e)"
   ]
  },
  {
   "cell_type": "code",
   "execution_count": 11,
   "metadata": {},
   "outputs": [
    {
     "name": "stdout",
     "output_type": "stream",
     "text": [
      "0.9996579844825116\n",
      "1.0\n"
     ]
    }
   ],
   "source": [
    "# obtain the weights for composite trapezoid rule and then solve for u on the grid (u_lam_e solution that can be evaluated)\n",
    "weights = gal_e.get_trap_weights(N)\n",
    "u_e = 0\n",
    "# do composite trapezoid rule\n",
    "for i in range(0,N+1):\n",
    "        u_e = u_e + (weights[i] * mu_e[i] * lam_dgreens_dn_e(h*i))\n",
    "\n",
    "# create solution function u that can be evaluated at points in the domain\n",
    "u_lam_e = sp.lambdify([q,r],u_e)\n",
    "\n",
    "# define the true solution to compute error\n",
    "true_soln = sp.lambdify([q,r],rhs)\n",
    "\n",
    "# print a random test value\n",
    "print(u_lam_e(0,0))\n",
    "print(true_soln(0,0))"
   ]
  },
  {
   "cell_type": "code",
   "execution_count": 12,
   "metadata": {},
   "outputs": [],
   "source": [
    "# next we evaluate u at sevaral points in the domain \n",
    "\n",
    "# define the number of random points to check and the array to store u at these points\n",
    "# also define an array for absolute error to compare to right hand side\n",
    "npts = 30\n",
    "u_ellipse = np.zeros(npts)\n",
    "error_ellipse = np.zeros(npts)\n",
    "dnpts = 1/30\n",
    "for i in range(0,npts):\n",
    "    u_ellipse[i] = u_lam_e(i*dnpts*1, dnpts*0)\n",
    "    error_ellipse[i] = np.abs(  u_lam_e(i*dnpts*1, dnpts*0) - true_soln(i*dnpts*1,dnpts*0)   )"
   ]
  },
  {
   "cell_type": "code",
   "execution_count": 10,
   "metadata": {},
   "outputs": [
    {
     "name": "stdout",
     "output_type": "stream",
     "text": [
      "[0.99965798 1.02616746 1.05346062 1.0815719  1.11053697 1.14039291\n",
      " 1.17117823 1.20293302 1.23569912 1.26952027 1.30444231 1.3405134\n",
      " 1.37778417 1.41630798 1.45614105 1.4973426  1.53997499 1.58410377\n",
      " 1.62979767 1.67712864 1.72617182 1.77700557 1.82971154 1.88437488\n",
      " 1.94108457 1.99993392 2.06102128 2.12445095 2.19033412 2.25878985]\n"
     ]
    },
    {
     "data": {
      "text/plain": [
       "Text(0, 0.5, 'u')"
      ]
     },
     "execution_count": 10,
     "metadata": {},
     "output_type": "execute_result"
    },
    {
     "data": {
      "image/png": "[encoded data removed]",
      "text/plain": [
       "<Figure size 432x288 with 1 Axes>"
      ]
     },
     "metadata": {
      "needs_background": "light"
     },
     "output_type": "display_data"
    }
   ],
   "source": [
    "# display the values of u at the random points\n",
    "print(u_ellipse)\n",
    "plt.plot(u_ellipse)\n",
    "plt.ylabel('u')"
   ]
  },
  {
   "cell_type": "code",
   "execution_count": 13,
   "metadata": {},
   "outputs": [
    {
     "name": "stdout",
     "output_type": "stream",
     "text": [
      "[3.42015517e-04 7.72765533e-03 1.54784828e-02 2.35990225e-02\n",
      " 3.20938378e-02 4.09674990e-02 5.02245289e-02 5.98693243e-02\n",
      " 6.99060545e-02 8.03385394e-02 9.11701111e-02 1.02403467e-01\n",
      " 1.14040525e-01 1.26082283e-01 1.38528713e-01 1.51378673e-01\n",
      " 1.64629871e-01 1.78278870e-01 1.92321131e-01 2.06751086e-01\n",
      " 2.21562223e-01 2.36747140e-01 2.52297543e-01 2.68204133e-01\n",
      " 2.84456358e-01 3.01041976e-01 3.17946448e-01 3.35152156e-01\n",
      " 3.52637521e-01 3.70376105e-01]\n"
     ]
    },
    {
     "data": {
      "text/plain": [
       "Text(0, 0.5, 'absolute error')"
      ]
     },
     "execution_count": 13,
     "metadata": {},
     "output_type": "execute_result"
    },
    {
     "data": {
      "image/png": "[encoded data removed]",
      "text/plain": [
       "<Figure size 432x288 with 1 Axes>"
      ]
     },
     "metadata": {
      "needs_background": "light"
     },
     "output_type": "display_data"
    }
   ],
   "source": [
    "# display the error \n",
    "print(error_ellipse)\n",
    "plt.plot(error_ellipse)\n",
    "plt.ylabel('absolute error')"
   ]
  }
 ],
 "metadata": {
  "kernelspec": {
   "display_name": "Python 3",
   "language": "python",
   "name": "python3"
  },
  "language_info": {
   "codemirror_mode": {
    "name": "ipython",
    "version": 3
   },
   "file_extension": ".py",
   "mimetype": "text/x-python",
   "name": "python",
   "nbconvert_exporter": "python",
   "pygments_lexer": "ipython3",
   "version": "3.8.3"
  }
 },
 "nbformat": 4,
 "nbformat_minor": 4
}
