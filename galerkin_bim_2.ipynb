{
 "cells": [
  {
   "cell_type": "code",
   "execution_count": 2,
   "metadata": {},
   "outputs": [],
   "source": [
    "import numpy as np\n",
    "import matplotlib.pyplot as plt\n",
    "import sympy as sp"
   ]
  },
  {
   "cell_type": "code",
   "execution_count": 3,
   "metadata": {},
   "outputs": [],
   "source": [
    "class galerkin_bim:\n",
    "    def __init__(self, n, a, b, lam, x1, x2, rhs):\n",
    "        \n",
    "        self.n = n\n",
    "        self.a = a\n",
    "        self.b = b\n",
    "        self.lam = lam\n",
    "        \n",
    "        self.t = sp.Symbol('t')\n",
    "        self.s = sp.Symbol('s')\n",
    "        self.x1 = x1(self.s)\n",
    "        self.x2 = x2(self.s)\n",
    "        self.y1 = x1(self.t)\n",
    "        self.y2 = x2(self.t)\n",
    "        \n",
    "        # initialize h for quadrature to find u\n",
    "        self.h = (b-a) / n\n",
    "        \n",
    "        # initialize arrays\n",
    "        self.matrix = np.zeros((n+1,n+1))\n",
    "        self.rhs_values = np.zeros(n+1)\n",
    "        self.mu = np.zeros(n+1)\n",
    "        self.u = np.zeros(n+1)\n",
    "        \n",
    "        # initialize everything else\n",
    "        self.rhs = rhs.subs({q:self.y1,r:self.y2})\n",
    "        self.jacobian_lam = 0\n",
    "        self.dgreens_dn_lam = 0\n",
    "        self.kappa_lam = 0\n",
    "        \n",
    "    \n",
    "    def lagrange_poly_value(self, n_in, i, t_in):\n",
    "        # evaluates the ith Lagrange polynomial on [a,b] with n_in nodes at the point t_in\n",
    "        h_in = (self.b - self.a) / n_in\n",
    "        #self.lagrange_poly = 0\n",
    "        #self.lagrange_poly_lam = 0\n",
    "        \n",
    "        if (i != 0 and i != n_in):\n",
    "            self.lagrange_poly = sp.Piecewise((0, self.t < self.a + (i-1) * h_in), (0, self.t > self.a + (i+1)*h_in), (1 - (sp.Abs(self.t - (self.a + i*h_in))/h_in),True))\n",
    "            self.lagrange_poly_lam = sp.lambdify(self.t,self.lagrange_poly)\n",
    "        if (i == 0):\n",
    "            self.lagrange_poly = sp.Piecewise((0,self.t > self.a + (i+1)*h_in),(1 - (sp.Abs(self.t - (self.a + i*h_in))/h_in),True))\n",
    "            self.lagrange_poly_lam = sp.lambdify(self.t,self.lagrange_poly)\n",
    "        if (i == n_in):\n",
    "            self.lagrange_poly = sp.Piecewise((0,self.t < self.a + (i-1)*h_in),(1 - (sp.Abs(self.t - (self.a + i*h_in))/h_in),True))\n",
    "            self.lagrange_poly_lam = sp.lambdify(self.t,self.lagrange_poly)\n",
    "        \n",
    "        return self.lagrange_poly_lam(t_in)\n",
    "    \n",
    "    \n",
    "    def get_t_values(self,n_in):\n",
    "        # values at which a solution will be evaluated at (correspond to composite trapezoid nodes)\n",
    "        t_values = np.zeros(n_in + 1)\n",
    "        h_in = (self.b - self.a) / n_in\n",
    "        for i in range(0,n_in + 1):\n",
    "            t_values[i] = self.a + i*h_in\n",
    "        \n",
    "        return t_values\n",
    "\n",
    "            \n",
    "    def get_trap_weights(self,n_in):\n",
    "        # weights for composite trapezoid rule, which is used to evaluate u\n",
    "        weights = np.zeros(n_in + 1)\n",
    "        h_in = (self.b - self.a) / n_in\n",
    "        weights[0] = 0.5\n",
    "        weights[n_in] = 0.5\n",
    "        for i in range(1,n_in):\n",
    "            weights[i] = 1\n",
    "        weights = weights * h_in;\n",
    "        \n",
    "        return weights\n",
    "        \n",
    "        \n",
    "    def construct_greens_function(self):\n",
    "        # build all necessary functions\n",
    "        # first the Jacobian\n",
    "        self.jacobian = sp.sqrt(sp.Pow(sp.diff(self.y1,self.t),2) + sp.Pow(sp.diff(self.y2,self.t),2))\n",
    "        self.jacobian_lam = sp.lambdify(self.t,self.jacobian)\n",
    "\n",
    "        # normal vector in 2D\n",
    "        self.normal = (1/self.jacobian) * sp.Array([-1*sp.diff(self.y2,self.t),sp.diff(self.y1,self.t)])\n",
    "\n",
    "        # greens function and normal derivative\n",
    "        self.greens_fxn = (1/(2*np.pi)) * sp.log(sp.sqrt(sp.Pow(self.x1 - self.y1,2) + sp.Pow(self.x2 - self.y2,2)))\n",
    "        self.del_greens_fxn = sp.Array([-1*(1/(2*np.pi))*(1/(sp.Pow(self.x1-self.y1,2) + sp.Pow(self.x2-self.y2,2))) * (self.x1-self.y1),\n",
    "                                        -1*(1/(2*np.pi))*(1/(sp.Pow(self.x1-self.y1,2) + sp.Pow(self.x2-self.y2,2))) * (self.x2-self.y2)])\n",
    "        self.dgreens_dn = self.del_greens_fxn[0] * self.normal[0] + self.del_greens_fxn[1] * self.normal[1]\n",
    "        self.dgreens_dn_simplified = sp.simplify(self.dgreens_dn)\n",
    "        self.dgreens_dn_lam = sp.lambdify([self.t,self.s],self.dgreens_dn_simplified)\n",
    "        # order for inputs is (t,s)\n",
    "\n",
    "        # for the case where the kernel is nearly singular\n",
    "        self.kappa = (-1/(4*np.pi))*(sp.diff(self.y2,self.t,self.t)*sp.diff(self.y1,self.t)-sp.diff(self.y1,self.t,self.t)*sp.diff(self.y2,self.t))*(1/(sp.Pow(sp.diff(self.y1,self.t),2)+sp.Pow(sp.diff(self.y2,self.t),2)))\n",
    "        self.kappa_lam = sp.lambdify(self.t,self.kappa)\n",
    "        \n",
    "            \n",
    "    def build_linear_system(self):\n",
    "        # build matrix and rhs\n",
    "        \n",
    "        # define the grid\n",
    "        t_values = self.get_t_values(self.n)\n",
    "        \n",
    "        # first build the rhs\n",
    "        # this is the function y defined symbolically\n",
    "        y_lam = sp.lambdify(self.t,self.rhs)\n",
    "        \n",
    "        self.rhs_values[0] = 0.5 * self.h * y_lam(self.a)\n",
    "        self.rhs_values[self.n] = 0.5 * self.h * y_lam(self.b)\n",
    "        for i in range(1, self.n):\n",
    "            self.rhs_values[i] = self.h * y_lam(t_values[i])\n",
    "        \n",
    "        # next build the matrix, build the two parts separately and adding them together in the end\n",
    "        \n",
    "        # build the lam(li,lj) part first\n",
    "        matrix_1 = np.zeros((self.n+1,self.n+1))\n",
    "        for i in range(0,self.n + 1):\n",
    "            for j in range(0,self.n + 1): \n",
    "                if (sp.Abs(i-j) > 1):\n",
    "                    matrix_1[i,j] = 0\n",
    "                elif (i == j and i > 0 and i < self.n):\n",
    "                    matrix_1[i,j] = (2/3)*self.h\n",
    "                elif (i == j and i == 0):\n",
    "                    matrix_1[i,j] = (1/3)*self.h\n",
    "                elif(i == j and i == self.n):\n",
    "                    matrix_1[i,j] = (1/3)*self.h\n",
    "                else:\n",
    "                    matrix_1[i,j] = (1/6)*self.h\n",
    "                    \n",
    "        matrix_1 = matrix_1 * self.lam\n",
    "        \n",
    "        # now build the matrix of the double integral term\n",
    "        # values of the integrals of the Lagrange polynomials\n",
    "        L_vec = np.zeros(self.n + 1)\n",
    "        L_vec[0] = 0.5\n",
    "        L_vec[self.n] = 0.5\n",
    "        for i in range(1,self.n):\n",
    "            L_vec[i] = 1\n",
    "        \n",
    "        L_vec = L_vec * self.h\n",
    "        \n",
    "        gf = 1/(4*np.pi)\n",
    "        matrix_2 = gf * np.outer(L_vec,L_vec)\n",
    "        \n",
    "        # combine the matrices\n",
    "        self.matrix = matrix_1 - matrix_2\n",
    "        \n",
    "    def solve_mu(self):\n",
    "        # solve the linear system for mu\n",
    "        self.mu = np.linalg.inv(self.matrix)@self.rhs_values\n",
    "        return self.mu\n",
    "    \n",
    "        "
   ]
  },
  {
   "cell_type": "code",
   "execution_count": 4,
   "metadata": {},
   "outputs": [],
   "source": [
    "q,r = sp.symbols(\"q r\")\n",
    "\n",
    "# q,r are dummy variables for x1 and x2\n",
    "rhs = sp.exp(q)*sp.cos(r)\n",
    "N = 100\n",
    "\n",
    "a = 0\n",
    "b = 2*np.pi\n",
    "lam = -0.5\n",
    "\n",
    "x1 = sp.cos\n",
    "x2 = sp.sin\n",
    "\n",
    "gal = galerkin_bim(N, a, b, lam, x1, x2, rhs)\n",
    "gal.build_linear_system()\n",
    "mu = gal.solve_mu()\n"
   ]
  },
  {
   "cell_type": "code",
   "execution_count": 5,
   "metadata": {},
   "outputs": [
    {
     "name": "stdout",
     "output_type": "stream",
     "text": [
      "0.0035859572729117772\n"
     ]
    }
   ],
   "source": [
    "m = (mu.shape)             \n",
    "m = m[0]\n",
    "\n",
    "weights = gal.get_trap_weights(N)\n",
    "mu_t = 0\n",
    "for i in range(0,N+1):\n",
    "        mu_t = mu_t + (weights[i] * mu[i] * (-1/ (4*np.pi)))\n",
    "\n",
    "t_values = gal.get_t_values(N)\n",
    "mu_s = np.zeros(N+1)\n",
    "rhs_e = np.zeros(N+1)\n",
    "\n",
    "for i in range(0,N+1):\n",
    "    mu_s[i] = lam*mu[i] + mu_t\n",
    "    rhs_e[i] = np.exp(np.cos(t_values[i]))*np.cos(np.sin(t_values[i]))\n",
    "    \n",
    "error_mu = np.zeros(N+1)\n",
    "for i in range(0,N+1):\n",
    "    error_mu[i] = np.abs( mu_s[i] - rhs_e[i] )\n",
    "\n",
    "twoerror_mu = np.linalg.norm(error_mu)\n",
    "#print(twoerror_mu)\n",
    "\n",
    "inferror_mu = np.linalg.norm(error_mu,np.inf)\n",
    "print(inferror_mu)    \n",
    "\n",
    "#print(mu_s)\n",
    "#print(rhs_e)\n",
    "\n",
    "#print(t_values)\n",
    "#print(weights)\n",
    "#print(error_mu)\n",
    "#plt.plot(error_mu)\n"
   ]
  },
  {
   "cell_type": "code",
   "execution_count": 6,
   "metadata": {},
   "outputs": [
    {
     "data": {
      "text/plain": [
       "Text(0, 0.5, 'left-hand side')"
      ]
     },
     "execution_count": 6,
     "metadata": {},
     "output_type": "execute_result"
    },
    {
     "data": {
      "image/png": "[encoded data removed]",
      "text/plain": [
       "<Figure size 432x288 with 1 Axes>"
      ]
     },
     "metadata": {
      "needs_background": "light"
     },
     "output_type": "display_data"
    }
   ],
   "source": [
    "plt.rcParams.update({'font.size': 15})\n",
    "p1 = plt.plot(t_values, mu_s, 'ro',markersize = 5, label = 'numerical solution')\n",
    "p2 = plt.plot(t_values, rhs_e, 'k-', label = 'true solution')\n",
    "plt.legend()\n",
    "plt.xlabel('t')\n",
    "plt.ylabel('left-hand side')"
   ]
  },
  {
   "cell_type": "code",
   "execution_count": 25,
   "metadata": {},
   "outputs": [
    {
     "data": {
      "text/latex": [
       "$\\displaystyle \\frac{0.159154943091895 \\left(q \\cos{\\left(t \\right)} + r \\sin{\\left(t \\right)} - 1\\right)}{\\left(q - \\cos{\\left(t \\right)}\\right)^{2} + \\left(r - \\sin{\\left(t \\right)}\\right)^{2}}$"
      ],
      "text/plain": [
       "0.159154943091895*(q*cos(t) + r*sin(t) - 1)/((q - cos(t))**2 + (r - sin(t))**2)"
      ]
     },
     "execution_count": 25,
     "metadata": {},
     "output_type": "execute_result"
    }
   ],
   "source": [
    "gal.construct_greens_function()\n",
    "new_dgreens_dn = gal.dgreens_dn.subs({gal.x1:q, gal.x2: r})\n",
    "new_dgreens_dn = sp.simplify(new_dgreens_dn)\n",
    "new_dgreens_dn"
   ]
  },
  {
   "cell_type": "code",
   "execution_count": 26,
   "metadata": {},
   "outputs": [],
   "source": [
    "# solve for u\n",
    "m = (mu.shape)             \n",
    "m = m[0]\n",
    "h = gal.h\n",
    "t = gal.t\n",
    "lam_dgreens_dn = sp.lambdify(t,new_dgreens_dn)"
   ]
  },
  {
   "cell_type": "code",
   "execution_count": 27,
   "metadata": {},
   "outputs": [
    {
     "name": "stdout",
     "output_type": "stream",
     "text": [
      "0.9999999999999974\n",
      "1.0\n"
     ]
    }
   ],
   "source": [
    "weights = gal.get_trap_weights(N)\n",
    "u = 0\n",
    "for i in range(0,N+1):\n",
    "        u = u + (weights[i] * mu[i] * lam_dgreens_dn(h*i))\n",
    "\n",
    "u_lam = sp.lambdify([q,r],u)\n",
    "true_soln = sp.lambdify([q,r],rhs)\n",
    "\n",
    "print(u_lam(0,0))\n",
    "print(true_soln(0,0))"
   ]
  },
  {
   "cell_type": "code",
   "execution_count": 28,
   "metadata": {},
   "outputs": [],
   "source": [
    "b = 30\n",
    "error = np.zeros(b)\n",
    "db = 1/30\n",
    "for i in range(0,b):\n",
    "    error[i] = np.abs(  u_lam(i*db*1, db*0) - true_soln(i*db*1,db*0)   )"
   ]
  },
  {
   "cell_type": "code",
   "execution_count": 29,
   "metadata": {},
   "outputs": [
    {
     "name": "stdout",
     "output_type": "stream",
     "text": [
      "[2.55351296e-15 1.46451858e-06 3.12601773e-06 4.99948112e-06\n",
      " 7.10079420e-06 9.44679197e-06 1.20553090e-05 1.49452320e-05\n",
      " 1.81365547e-05 2.16504359e-05 2.55092594e-05 2.97366981e-05\n",
      " 3.43577799e-05 3.93989577e-05 4.48881821e-05 5.08549782e-05\n",
      " 5.73305254e-05 6.43477416e-05 7.19413709e-05 8.01480758e-05\n",
      " 8.90065334e-05 9.85575367e-05 1.08844100e-04 1.19911570e-04\n",
      " 1.31807741e-04 1.44582976e-04 1.58290336e-04 1.72985709e-04\n",
      " 1.88727958e-04 2.11312278e-04]\n"
     ]
    },
    {
     "data": {
      "text/plain": [
       "[<matplotlib.lines.Line2D at 0x1b6936ee3d0>]"
      ]
     },
     "execution_count": 29,
     "metadata": {},
     "output_type": "execute_result"
    },
    {
     "data": {
      "image/png": "[encoded data removed]",
      "text/plain": [
       "<Figure size 432x288 with 1 Axes>"
      ]
     },
     "metadata": {
      "needs_background": "light"
     },
     "output_type": "display_data"
    }
   ],
   "source": [
    "print(error)\n",
    "plt.plot(error)"
   ]
  },
  {
   "cell_type": "code",
   "execution_count": 30,
   "metadata": {},
   "outputs": [
    {
     "name": "stdout",
     "output_type": "stream",
     "text": [
      "0.0004966171980409388\n",
      "0.0002113122777922527\n"
     ]
    }
   ],
   "source": [
    "twoerror = np.linalg.norm(error)\n",
    "print(twoerror)\n",
    "\n",
    "inferror = np.linalg.norm(error,np.inf)\n",
    "print(inferror)"
   ]
  }
 ],
 "metadata": {
  "kernelspec": {
   "display_name": "Python 3",
   "language": "python",
   "name": "python3"
  },
  "language_info": {
   "codemirror_mode": {
    "name": "ipython",
    "version": 3
   },
   "file_extension": ".py",
   "mimetype": "text/x-python",
   "name": "python",
   "nbconvert_exporter": "python",
   "pygments_lexer": "ipython3",
   "version": "3.8.3"
  }
 },
 "nbformat": 4,
 "nbformat_minor": 4
}
